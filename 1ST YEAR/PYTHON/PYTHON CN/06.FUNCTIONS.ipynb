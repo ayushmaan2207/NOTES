{
 "cells": [
  {
   "cell_type": "markdown",
   "id": "98bf2555",
   "metadata": {},
   "source": [
    "### Functions & how to use them"
   ]
  },
  {
   "cell_type": "code",
   "execution_count": 1,
   "id": "d25ca938",
   "metadata": {},
   "outputs": [
    {
     "name": "stdout",
     "output_type": "stream",
     "text": [
      "4\n",
      "2\n"
     ]
    },
    {
     "data": {
      "text/plain": [
       "6"
      ]
     },
     "execution_count": 1,
     "metadata": {},
     "output_type": "execute_result"
    }
   ],
   "source": [
    "n=int(input())\n",
    "r=int(input())\n",
    "\n",
    "n_fact=1\n",
    "for i in range(1,n+1):\n",
    "    n_fact*=i\n",
    "    \n",
    "r_fact=1\n",
    "for i in range(1,r+1):\n",
    "    r_fact*=i\n",
    "    \n",
    "n_r_fact=1\n",
    "for i in range(1,n-r+1):\n",
    "    n_r_fact*=i\n",
    "\n",
    "ans= n_fact//(r_fact*n_r_fact)\n",
    "ans"
   ]
  },
  {
   "cell_type": "code",
   "execution_count": 2,
   "id": "5c9e6621",
   "metadata": {},
   "outputs": [],
   "source": [
    "def fact(n):\n",
    "    n_fact=1\n",
    "    for i in range(1,n+1):\n",
    "        n_fact*=i\n",
    "    return n_fact"
   ]
  },
  {
   "cell_type": "code",
   "execution_count": 4,
   "id": "33d009bb",
   "metadata": {},
   "outputs": [
    {
     "name": "stdout",
     "output_type": "stream",
     "text": [
      "4\n",
      "2\n"
     ]
    },
    {
     "data": {
      "text/plain": [
       "6"
      ]
     },
     "execution_count": 4,
     "metadata": {},
     "output_type": "execute_result"
    }
   ],
   "source": [
    "a=int(input())\n",
    "r=int(input())\n",
    "ans= fact(a)//(fact(r)*fact(a-r))\n",
    "ans"
   ]
  },
  {
   "cell_type": "markdown",
   "id": "b168818e",
   "metadata": {},
   "source": [
    "### Why do we need functions\n",
    "    ~ Readability\n",
    "    ~ Testing become easy\n",
    "    ~ No need to write same code again & again"
   ]
  },
  {
   "cell_type": "markdown",
   "id": "79ff02b1",
   "metadata": {},
   "source": [
    "### Few examples"
   ]
  },
  {
   "cell_type": "code",
   "execution_count": 5,
   "id": "a79255d5",
   "metadata": {},
   "outputs": [],
   "source": [
    "def isPrime(n):\n",
    "    for i in range(2,n):\n",
    "        if n%i==0:\n",
    "            break\n",
    "    else:\n",
    "        return True\n",
    "    \n",
    "    return False"
   ]
  },
  {
   "cell_type": "code",
   "execution_count": 6,
   "id": "06777288",
   "metadata": {},
   "outputs": [
    {
     "data": {
      "text/plain": [
       "True"
      ]
     },
     "execution_count": 6,
     "metadata": {},
     "output_type": "execute_result"
    }
   ],
   "source": [
    "isPrime(13)"
   ]
  },
  {
   "cell_type": "code",
   "execution_count": 7,
   "id": "dca4a22a",
   "metadata": {},
   "outputs": [],
   "source": [
    "def primeFrom2ToN(n):\n",
    "    for k in range(2,n+1):\n",
    "        #check if k is prime & in case it's prime we print k\n",
    "        is_k_prime=isPrime(k)\n",
    "        if is_k_prime:\n",
    "            print(k)"
   ]
  },
  {
   "cell_type": "code",
   "execution_count": 8,
   "id": "2eea3795",
   "metadata": {},
   "outputs": [
    {
     "name": "stdout",
     "output_type": "stream",
     "text": [
      "2\n",
      "3\n",
      "5\n",
      "7\n",
      "11\n",
      "13\n",
      "17\n",
      "19\n"
     ]
    }
   ],
   "source": [
    "primeFrom2ToN(20)"
   ]
  },
  {
   "cell_type": "code",
   "execution_count": 9,
   "id": "3c6dc988",
   "metadata": {},
   "outputs": [],
   "source": [
    "def ncr(n,r):\n",
    "    ans= fact(a)//(fact(r)*fact(a-r))\n",
    "    return ans"
   ]
  },
  {
   "cell_type": "code",
   "execution_count": 10,
   "id": "e67be7d5",
   "metadata": {},
   "outputs": [
    {
     "data": {
      "text/plain": [
       "6"
      ]
     },
     "execution_count": 10,
     "metadata": {},
     "output_type": "execute_result"
    }
   ],
   "source": [
    "ncr(4,2)"
   ]
  },
  {
   "cell_type": "markdown",
   "id": "634c5187",
   "metadata": {},
   "source": [
    "### Scope of variable"
   ]
  },
  {
   "cell_type": "code",
   "execution_count": 8,
   "id": "feedf235",
   "metadata": {},
   "outputs": [
    {
     "name": "stdout",
     "output_type": "stream",
     "text": [
      "10\n",
      "12\n",
      "10\n"
     ]
    }
   ],
   "source": [
    "a1=10 # global variable\n",
    "\n",
    "def f1():\n",
    "    b1=12 # local variable\n",
    "    print(b1)\n",
    "    \n",
    "print(a1)\n",
    "f1()\n",
    "print(b1)#~ cannot print local variable outside the function "
   ]
  },
  {
   "cell_type": "code",
   "execution_count": 9,
   "id": "2dce606f",
   "metadata": {},
   "outputs": [
    {
     "name": "stdout",
     "output_type": "stream",
     "text": [
      "10\n",
      "12\n",
      "10\n"
     ]
    }
   ],
   "source": [
    "a2=10 # global variable\n",
    "\n",
    "def f2():\n",
    "    b2=12 # local variable\n",
    "    print(b2)\n",
    "    print(a2)\n",
    "    \n",
    "print(a2)\n",
    "f2()"
   ]
  },
  {
   "cell_type": "code",
   "execution_count": 1,
   "id": "33229a04",
   "metadata": {},
   "outputs": [
    {
     "name": "stdout",
     "output_type": "stream",
     "text": [
      "10\n",
      "12\n",
      "10\n"
     ]
    }
   ],
   "source": [
    "def f3():\n",
    "    b3=12 # local variable\n",
    "    print(b3)\n",
    "    print(a3)\n",
    " \n",
    "a3=10 # global variable (it should be defined before function is called i.e f3())\n",
    "print(a3)\n",
    "f3()"
   ]
  },
  {
   "cell_type": "code",
   "execution_count": 11,
   "id": "63e149bd",
   "metadata": {},
   "outputs": [
    {
     "name": "stdout",
     "output_type": "stream",
     "text": [
      "13\n",
      "12\n",
      "1883664181904\n",
      "13\n",
      "1883664181936\n"
     ]
    }
   ],
   "source": [
    "a4=13\n",
    "def f4():\n",
    "    a4=12 # it create new local variable\n",
    "    print(a4)\n",
    "    print(id(a4))\n",
    "print(a4)\n",
    "f4()\n",
    "print(a4)\n",
    "print(id(a4))"
   ]
  },
  {
   "cell_type": "code",
   "execution_count": 13,
   "id": "8050ee5d",
   "metadata": {
    "scrolled": true
   },
   "outputs": [
    {
     "name": "stdout",
     "output_type": "stream",
     "text": [
      "13\n",
      "12\n",
      "1883664181904\n",
      "12\n",
      "1883664181904\n"
     ]
    }
   ],
   "source": [
    "a4=13\n",
    "\n",
    "def f4():\n",
    "    global a4 # it didn't create local variable\n",
    "    a4=12\n",
    "    print(a4)\n",
    "    print(id(a4))\n",
    "    \n",
    "print(a4)\n",
    "f4()\n",
    "print(a4)\n",
    "print(id(a4))"
   ]
  },
  {
   "cell_type": "code",
   "execution_count": 22,
   "id": "f962ccac",
   "metadata": {},
   "outputs": [
    {
     "name": "stdout",
     "output_type": "stream",
     "text": [
      "10\n",
      "10\n"
     ]
    }
   ],
   "source": [
    "def f():\n",
    "    b=10\n",
    "    return b\n",
    "\n",
    "x=f()\n",
    "print(x)\n",
    "\n",
    "print(f())"
   ]
  },
  {
   "cell_type": "markdown",
   "id": "62f99c77",
   "metadata": {},
   "source": [
    "### Default parameters in functions"
   ]
  },
  {
   "cell_type": "code",
   "execution_count": 23,
   "id": "f73a99e0",
   "metadata": {},
   "outputs": [
    {
     "ename": "TypeError",
     "evalue": "f() takes 1 positional argument but 2 were given",
     "output_type": "error",
     "traceback": [
      "\u001b[1;31m---------------------------------------------------------------------------\u001b[0m",
      "\u001b[1;31mTypeError\u001b[0m                                 Traceback (most recent call last)",
      "\u001b[1;32m~\\AppData\\Local\\Temp/ipykernel_49264/3393236.py\u001b[0m in \u001b[0;36m<module>\u001b[1;34m\u001b[0m\n\u001b[0;32m      2\u001b[0m     \u001b[0mprint\u001b[0m\u001b[1;33m(\u001b[0m\u001b[0mn\u001b[0m\u001b[1;33m)\u001b[0m\u001b[1;33m\u001b[0m\u001b[1;33m\u001b[0m\u001b[0m\n\u001b[0;32m      3\u001b[0m \u001b[1;33m\u001b[0m\u001b[0m\n\u001b[1;32m----> 4\u001b[1;33m \u001b[0mf\u001b[0m\u001b[1;33m(\u001b[0m\u001b[1;36m2\u001b[0m\u001b[1;33m,\u001b[0m\u001b[1;36m3\u001b[0m\u001b[1;33m)\u001b[0m\u001b[1;33m\u001b[0m\u001b[1;33m\u001b[0m\u001b[0m\n\u001b[0m",
      "\u001b[1;31mTypeError\u001b[0m: f() takes 1 positional argument but 2 were given"
     ]
    }
   ],
   "source": [
    "def f(n):\n",
    "    print(n)\n",
    "    \n",
    "f(2,3)"
   ]
  },
  {
   "cell_type": "code",
   "execution_count": 25,
   "id": "13a7ef4f",
   "metadata": {},
   "outputs": [
    {
     "name": "stdout",
     "output_type": "stream",
     "text": [
      "9\n",
      "5\n"
     ]
    }
   ],
   "source": [
    "def sum(a,b,c=0):\n",
    "    return a+b+c\n",
    "\n",
    "print(sum(2,3,4))\n",
    "print(sum(2,3))"
   ]
  },
  {
   "cell_type": "code",
   "execution_count": 26,
   "id": "44348b25",
   "metadata": {},
   "outputs": [
    {
     "ename": "SyntaxError",
     "evalue": "non-default argument follows default argument (Temp/ipykernel_49264/3476654395.py, line 1)",
     "output_type": "error",
     "traceback": [
      "\u001b[1;36m  File \u001b[1;32m\"C:\\Users\\ayush\\AppData\\Local\\Temp/ipykernel_49264/3476654395.py\"\u001b[1;36m, line \u001b[1;32m1\u001b[0m\n\u001b[1;33m    def sum(a=0,b,c):\u001b[0m\n\u001b[1;37m                  ^\u001b[0m\n\u001b[1;31mSyntaxError\u001b[0m\u001b[1;31m:\u001b[0m non-default argument follows default argument\n"
     ]
    }
   ],
   "source": [
    "#all non-default argument should be before default argument\n",
    "def sum(a=0,b,c):\n",
    "    return a+b+c\n",
    "print(sum(2,3))"
   ]
  },
  {
   "cell_type": "code",
   "execution_count": 28,
   "id": "c0487e89",
   "metadata": {},
   "outputs": [
    {
     "name": "stdout",
     "output_type": "stream",
     "text": [
      "6\n",
      "8\n"
     ]
    }
   ],
   "source": [
    "def f1(a,b,c=2,d=0):\n",
    "    return a+b+c+d\n",
    "print(f1(1,2,3))\n",
    "print(f1(1,2,d=3))"
   ]
  }
 ],
 "metadata": {
  "kernelspec": {
   "display_name": "Python 3 (ipykernel)",
   "language": "python",
   "name": "python3"
  },
  "language_info": {
   "codemirror_mode": {
    "name": "ipython",
    "version": 3
   },
   "file_extension": ".py",
   "mimetype": "text/x-python",
   "name": "python",
   "nbconvert_exporter": "python",
   "pygments_lexer": "ipython3",
   "version": "3.9.7"
  }
 },
 "nbformat": 4,
 "nbformat_minor": 5
}
