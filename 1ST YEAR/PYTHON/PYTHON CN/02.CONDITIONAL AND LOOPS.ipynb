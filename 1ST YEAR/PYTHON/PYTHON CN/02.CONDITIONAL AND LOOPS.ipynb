{
 "cells": [
  {
   "cell_type": "markdown",
   "id": "b2a21499",
   "metadata": {},
   "source": [
    "### Booleans"
   ]
  },
  {
   "cell_type": "code",
   "execution_count": 2,
   "id": "bf545429",
   "metadata": {},
   "outputs": [
    {
     "data": {
      "text/plain": [
       "bool"
      ]
     },
     "execution_count": 2,
     "metadata": {},
     "output_type": "execute_result"
    }
   ],
   "source": [
    "a=True     # true is not boolean but True is a boolean\n",
    "b=False\n",
    "type(b)"
   ]
  },
  {
   "cell_type": "markdown",
   "id": "ee2b3de6",
   "metadata": {},
   "source": [
    "### Relational operators"
   ]
  },
  {
   "cell_type": "code",
   "execution_count": 3,
   "id": "fe77df04",
   "metadata": {},
   "outputs": [
    {
     "name": "stdout",
     "output_type": "stream",
     "text": [
      "False\n",
      "True\n",
      "False\n",
      "True\n",
      "False\n",
      "True\n"
     ]
    }
   ],
   "source": [
    "a=10\n",
    "b=20\n",
    "print(a>b)\n",
    "print(a<b)\n",
    "print(a>=b)\n",
    "print(a<=b)\n",
    "print(a==b) #a=b used to assign value of b in a\n",
    "print(a!=b) # a is not equal to"
   ]
  },
  {
   "cell_type": "markdown",
   "id": "556c1e31",
   "metadata": {},
   "source": [
    "### Logical operators"
   ]
  },
  {
   "cell_type": "code",
   "execution_count": 3,
   "id": "b7c73e8e",
   "metadata": {},
   "outputs": [
    {
     "name": "stdout",
     "output_type": "stream",
     "text": [
      "False\n",
      "True\n",
      "True\n"
     ]
    }
   ],
   "source": [
    "c1= a>10\n",
    "c2= b>10\n",
    "r1= c1 and c2 #'and' means both should be true\n",
    "r2= c1 or c2 #'or' means one should be true\n",
    "r3= not(c1) #'not' means A'or U-A or except A\n",
    "print(r1)\n",
    "print(r2)\n",
    "print(r3)"
   ]
  },
  {
   "cell_type": "markdown",
   "id": "9dd3653b",
   "metadata": {},
   "source": [
    "### IF ELSE"
   ]
  },
  {
   "cell_type": "code",
   "execution_count": 4,
   "id": "36883230",
   "metadata": {},
   "outputs": [
    {
     "name": "stdout",
     "output_type": "stream",
     "text": [
      "i am in else\n"
     ]
    }
   ],
   "source": [
    "a=False\n",
    "if a:\n",
    "    print(\"i am inside if\")\n",
    "    print(\"i am inside if\")\n",
    "else:\n",
    "    print(\"i am in else\")"
   ]
  },
  {
   "cell_type": "code",
   "execution_count": 5,
   "id": "2ddf973a",
   "metadata": {},
   "outputs": [
    {
     "name": "stdout",
     "output_type": "stream",
     "text": [
      "4\n",
      "even\n"
     ]
    }
   ],
   "source": [
    "#check number to be odd or even\n",
    "n=int(input())\n",
    "r=n%2\n",
    "even= (r==0)\n",
    "if even:\n",
    "    print('even')\n",
    "else:\n",
    "    print('odd')"
   ]
  },
  {
   "cell_type": "code",
   "execution_count": 6,
   "id": "9b584054",
   "metadata": {},
   "outputs": [
    {
     "name": "stdout",
     "output_type": "stream",
     "text": [
      "5\n",
      "odd\n"
     ]
    }
   ],
   "source": [
    "n=int(input())\n",
    "e= (n%2==0)\n",
    "if e:\n",
    "    print('even')\n",
    "else:\n",
    "    print('odd')"
   ]
  },
  {
   "cell_type": "code",
   "execution_count": 7,
   "id": "891242b8",
   "metadata": {},
   "outputs": [
    {
     "name": "stdout",
     "output_type": "stream",
     "text": [
      "4\n",
      "even\n"
     ]
    }
   ],
   "source": [
    "n=int(input())\n",
    "if (n%2==0):\n",
    "    print('even')\n",
    "else:\n",
    "    print('odd')"
   ]
  },
  {
   "cell_type": "code",
   "execution_count": 8,
   "id": "b9671d0f",
   "metadata": {},
   "outputs": [
    {
     "name": "stdout",
     "output_type": "stream",
     "text": [
      "4\n",
      "even\n",
      "5\n"
     ]
    }
   ],
   "source": [
    "n=int(input())\n",
    "if (n%2==0):\n",
    "    print('even')\n",
    "n=int(input())\n",
    "if (n%2==0):\n",
    "    print('even')"
   ]
  },
  {
   "cell_type": "markdown",
   "id": "23556e08",
   "metadata": {},
   "source": [
    "### ELIF"
   ]
  },
  {
   "cell_type": "code",
   "execution_count": 9,
   "id": "6b345e68",
   "metadata": {},
   "outputs": [
    {
     "name": "stdout",
     "output_type": "stream",
     "text": [
      "no.1:5\n",
      "no.2:4\n",
      "no.3:4\n",
      "5\n"
     ]
    }
   ],
   "source": [
    "#finding largest no.\n",
    "a=int(input(\"no.1:\"))\n",
    "b=int(input(\"no.2:\"))\n",
    "c=int(input(\"no.3:\"))\n",
    "\n",
    "if a>=b and a>=c:\n",
    "    print(a)\n",
    "elif b>=a and b>=c:\n",
    "    print(b)\n",
    "else:\n",
    "    print(c)"
   ]
  },
  {
   "cell_type": "code",
   "execution_count": 12,
   "id": "d9b53849",
   "metadata": {},
   "outputs": [
    {
     "name": "stdout",
     "output_type": "stream",
     "text": [
      "a\n",
      "b\n",
      "A\n"
     ]
    }
   ],
   "source": [
    "x=7\n",
    "if x==7:\n",
    "    print(\"a\")\n",
    "if x>6:\n",
    "    print(\"b\")\n",
    "else:\n",
    "    print(\"c\")\n",
    "    \n",
    "x=7\n",
    "if x==7:\n",
    "    print(\"A\")\n",
    "elif x>6:\n",
    "    print(\"B\")\n",
    "else:\n",
    "    print(\"C\")"
   ]
  },
  {
   "cell_type": "markdown",
   "id": "95ede0b1",
   "metadata": {},
   "source": [
    "### Nested IF ELSE"
   ]
  },
  {
   "cell_type": "code",
   "execution_count": 13,
   "id": "fe423cac",
   "metadata": {},
   "outputs": [
    {
     "name": "stdout",
     "output_type": "stream",
     "text": [
      "0\n",
      "n is even\n",
      "n is zero\n"
     ]
    }
   ],
   "source": [
    "n= int(input())\n",
    "\n",
    "if n%2==0:\n",
    "    print(\"n is even\")\n",
    "    if n==0:\n",
    "        print(\"n is zero\")\n",
    "else:\n",
    "    print(\"n is odd\")"
   ]
  },
  {
   "cell_type": "code",
   "execution_count": 13,
   "id": "45693ba7",
   "metadata": {},
   "outputs": [
    {
     "name": "stdout",
     "output_type": "stream",
     "text": [
      "n is:2\n",
      "m is:9\n",
      "2\n"
     ]
    }
   ],
   "source": [
    "n=int(input(\"n is:\"))\n",
    "m=int(input(\"m is:\"))\n",
    "\n",
    "if n%2==0:\n",
    "    if m%2==0:\n",
    "        print(1)\n",
    "    else:\n",
    "        print(2)\n",
    "else:\n",
    "    print(3)"
   ]
  },
  {
   "cell_type": "markdown",
   "id": "a49b1fab",
   "metadata": {},
   "source": [
    "### While loop"
   ]
  },
  {
   "cell_type": "code",
   "execution_count": 16,
   "id": "e2dc85d0",
   "metadata": {},
   "outputs": [
    {
     "name": "stdout",
     "output_type": "stream",
     "text": [
      "NO. :10\n",
      "1\n",
      "2\n",
      "3\n",
      "4\n",
      "5\n",
      "6\n",
      "7\n",
      "8\n",
      "9\n",
      "10\n"
     ]
    }
   ],
   "source": [
    "#print first n natural no.\n",
    "n=int(input(\"NO. :\")) #10\n",
    "count=1\n",
    "while count<=n:\n",
    "    print(count)\n",
    "    count+=1 #count=count+1"
   ]
  },
  {
   "cell_type": "code",
   "execution_count": 18,
   "id": "cc9398dd",
   "metadata": {},
   "outputs": [
    {
     "name": "stdout",
     "output_type": "stream",
     "text": [
      "13\n",
      "prime\n"
     ]
    }
   ],
   "source": [
    "#check prime\n",
    "n=int(input())\n",
    "a=2\n",
    "flag=False\n",
    "while a<n:\n",
    "    if (n%a==0):\n",
    "        flag=True\n",
    "    a+=1\n",
    "if flag:\n",
    "    print(\"not prime\")\n",
    "else:\n",
    "    print(\"prime\")"
   ]
  },
  {
   "cell_type": "code",
   "execution_count": 1,
   "id": "1c59bb4c",
   "metadata": {},
   "outputs": [
    {
     "name": "stdout",
     "output_type": "stream",
     "text": [
      "19\n",
      "2\n",
      "3\n",
      "5\n",
      "7\n",
      "11\n",
      "13\n",
      "17\n",
      "19\n"
     ]
    }
   ],
   "source": [
    "#print all prime no. form 2 to n\n",
    "n=int(input())\n",
    "k=2\n",
    "while k<=n:\n",
    "    d=2\n",
    "    flag=False\n",
    "    while d<k:\n",
    "        if (k%d==0):\n",
    "            flag=True\n",
    "        d=d+1\n",
    "    if flag== False:\n",
    "        print(k)\n",
    "    k=k+1"
   ]
  },
  {
   "cell_type": "code",
   "execution_count": 5,
   "id": "e97bede6",
   "metadata": {},
   "outputs": [
    {
     "name": "stdout",
     "output_type": "stream",
     "text": [
      "19\n",
      "2\n",
      "3\n",
      "5\n",
      "7\n",
      "11\n",
      "13\n",
      "17\n",
      "19\n"
     ]
    }
   ],
   "source": [
    "n=int(input())\n",
    "for i in range(2,n+1):\n",
    "    k=0\n",
    "    for j in range(2,i):\n",
    "        if(i%j == 0):\n",
    "            k=1\n",
    "    if(k==0):\n",
    "        print(i)          "
   ]
  }
 ],
 "metadata": {
  "kernelspec": {
   "display_name": "Python 3 (ipykernel)",
   "language": "python",
   "name": "python3"
  },
  "language_info": {
   "codemirror_mode": {
    "name": "ipython",
    "version": 3
   },
   "file_extension": ".py",
   "mimetype": "text/x-python",
   "name": "python",
   "nbconvert_exporter": "python",
   "pygments_lexer": "ipython3",
   "version": "3.9.7"
  }
 },
 "nbformat": 4,
 "nbformat_minor": 5
}
