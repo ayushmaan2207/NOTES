{
 "cells": [
  {
   "cell_type": "markdown",
   "id": "bc759b8e",
   "metadata": {},
   "source": [
    "### Introduction to lists\n",
    "    ~list can store data of various types\n",
    "    ~arrays can store data of same type"
   ]
  },
  {
   "cell_type": "markdown",
   "id": "40e6da85",
   "metadata": {},
   "source": [
    "### Operations on lists"
   ]
  },
  {
   "cell_type": "code",
   "execution_count": 1,
   "id": "45298f22",
   "metadata": {},
   "outputs": [
    {
     "data": {
      "text/plain": [
       "list"
      ]
     },
     "execution_count": 1,
     "metadata": {},
     "output_type": "execute_result"
    }
   ],
   "source": [
    "# Create a list\n",
    "li=[1,2,'hello',12.2]\n",
    "type(li)"
   ]
  },
  {
   "cell_type": "code",
   "execution_count": 2,
   "id": "b0213b1a",
   "metadata": {},
   "outputs": [
    {
     "name": "stdout",
     "output_type": "stream",
     "text": [
      "hello\n",
      "[5, 2, 'hello', 12.2]\n"
     ]
    }
   ],
   "source": [
    "# Access and change elements in list\n",
    "print(li[2])\n",
    "li[0]=5\n",
    "print(li)"
   ]
  },
  {
   "cell_type": "code",
   "execution_count": 3,
   "id": "927483ec",
   "metadata": {},
   "outputs": [
    {
     "data": {
      "text/plain": [
       "[12.2, 2]"
      ]
     },
     "execution_count": 3,
     "metadata": {},
     "output_type": "execute_result"
    }
   ],
   "source": [
    "# Slicing of a list\n",
    "li[5:0:-2] # li[start:stop:step size]"
   ]
  },
  {
   "cell_type": "code",
   "execution_count": 4,
   "id": "7167535f",
   "metadata": {},
   "outputs": [
    {
     "name": "stdout",
     "output_type": "stream",
     "text": [
      "[5, 2, 'hello', 12.2, 'ayush']\n",
      "[5, 2, 'hello', 'ansh', 12.2, 'ayush']\n"
     ]
    }
   ],
   "source": [
    "# Insert and append elements in list\n",
    "li.append('ayush')\n",
    "print(li)\n",
    "\n",
    "li.insert(3,'ansh') #(column,to be added)\n",
    "print(li)"
   ]
  },
  {
   "cell_type": "code",
   "execution_count": 5,
   "id": "18ae2869",
   "metadata": {},
   "outputs": [
    {
     "name": "stdout",
     "output_type": "stream",
     "text": [
      "[5, 2, 'hello', 'ansh', 12.2, 'ayush', [9, 10, 11]]\n",
      "[5, 2, 'hello', 'ansh', 12.2, 'ayush', [9, 10, 11], 9, 10, 11]\n"
     ]
    }
   ],
   "source": [
    "li.append([9,10,11])\n",
    "print(li)\n",
    "\n",
    "li.extend([9,10,11])\n",
    "print(li)"
   ]
  },
  {
   "cell_type": "code",
   "execution_count": 6,
   "id": "35f36bcc",
   "metadata": {},
   "outputs": [
    {
     "data": {
      "text/plain": [
       "[2, 'hello', 'ansh', 12.2, 'ayush', [9, 10, 11], 9, 10, 11]"
      ]
     },
     "execution_count": 6,
     "metadata": {},
     "output_type": "execute_result"
    }
   ],
   "source": [
    "# Removing elements from list\n",
    "li.remove(5)\n",
    "li"
   ]
  },
  {
   "cell_type": "code",
   "execution_count": 7,
   "id": "6eaa8308",
   "metadata": {},
   "outputs": [
    {
     "data": {
      "text/plain": [
       "11"
      ]
     },
     "execution_count": 7,
     "metadata": {},
     "output_type": "execute_result"
    }
   ],
   "source": [
    "li.pop()"
   ]
  },
  {
   "cell_type": "code",
   "execution_count": 8,
   "id": "2fe6a94c",
   "metadata": {},
   "outputs": [
    {
     "name": "stdout",
     "output_type": "stream",
     "text": [
      "[2, 'hello', 'ansh', 12.2, 'ayush', [9, 10, 11], 9, 10]\n",
      "[2, 'ansh', 12.2, 'ayush', [9, 10, 11], 9, 10]\n"
     ]
    }
   ],
   "source": [
    "print(li)\n",
    "li.pop(1)\n",
    "print(li)"
   ]
  },
  {
   "cell_type": "markdown",
   "id": "fe9f4bae",
   "metadata": {},
   "source": [
    "### How elements are stored in list\n",
    "    ~list actually stores refrences of elements\n",
    "    ~all refrences are stored continously\n",
    "    ~list follow the concept of resizing"
   ]
  },
  {
   "cell_type": "markdown",
   "id": "3a42f931",
   "metadata": {},
   "source": [
    "### Looping on lists"
   ]
  },
  {
   "cell_type": "code",
   "execution_count": 34,
   "id": "c4ec03c9",
   "metadata": {},
   "outputs": [
    {
     "data": {
      "text/plain": [
       "7"
      ]
     },
     "execution_count": 34,
     "metadata": {},
     "output_type": "execute_result"
    }
   ],
   "source": [
    "li=[1,2,'ayush',9,10,11,'hello']\n",
    "a=len(li)\n",
    "a"
   ]
  },
  {
   "cell_type": "code",
   "execution_count": 33,
   "id": "714b71b0",
   "metadata": {},
   "outputs": [
    {
     "name": "stdout",
     "output_type": "stream",
     "text": [
      "5\n",
      "1\n",
      "2\n",
      "3\n",
      "4\n",
      "5\n"
     ]
    }
   ],
   "source": [
    "print(len(li))\n",
    "for i in range(len(li)):\n",
    "    print(li[i])"
   ]
  },
  {
   "cell_type": "code",
   "execution_count": 11,
   "id": "89bd0771",
   "metadata": {},
   "outputs": [
    {
     "name": "stdout",
     "output_type": "stream",
     "text": [
      "ayush\n",
      "9\n",
      "10\n",
      "11\n",
      "hello\n"
     ]
    }
   ],
   "source": [
    "for i in range(2,len(li)):\n",
    "    print(li[i])"
   ]
  },
  {
   "cell_type": "code",
   "execution_count": 12,
   "id": "e41aa2d6",
   "metadata": {},
   "outputs": [
    {
     "name": "stdout",
     "output_type": "stream",
     "text": [
      "1\n",
      "2\n",
      "ayush\n",
      "9\n",
      "10\n",
      "11\n",
      "hello\n"
     ]
    }
   ],
   "source": [
    "for ele in li:\n",
    "    print(ele)"
   ]
  },
  {
   "cell_type": "code",
   "execution_count": 13,
   "id": "2b53e922",
   "metadata": {},
   "outputs": [
    {
     "name": "stdout",
     "output_type": "stream",
     "text": [
      "ayush\n",
      "9\n",
      "10\n",
      "11\n",
      "hello\n"
     ]
    }
   ],
   "source": [
    "for ele in li[2:]:\n",
    "    print(ele)"
   ]
  },
  {
   "cell_type": "markdown",
   "id": "9af8ad70",
   "metadata": {},
   "source": [
    "### Negative indexing and sequencing in list"
   ]
  },
  {
   "cell_type": "code",
   "execution_count": 9,
   "id": "73878de8",
   "metadata": {},
   "outputs": [
    {
     "data": {
      "text/plain": [
       "5"
      ]
     },
     "execution_count": 9,
     "metadata": {},
     "output_type": "execute_result"
    }
   ],
   "source": [
    "# Negative indexing\n",
    "li=[1,2,3,4,5]\n",
    "li[-1] #can't use -6 "
   ]
  },
  {
   "cell_type": "code",
   "execution_count": 15,
   "id": "24369cbf",
   "metadata": {},
   "outputs": [
    {
     "name": "stdout",
     "output_type": "stream",
     "text": [
      "[1, 3, 5]\n"
     ]
    },
    {
     "data": {
      "text/plain": [
       "[3, 4, 5]"
      ]
     },
     "execution_count": 15,
     "metadata": {},
     "output_type": "execute_result"
    }
   ],
   "source": [
    "# Sequencing in list\n",
    "print(li[::2])\n",
    "li[-3:]"
   ]
  },
  {
   "cell_type": "markdown",
   "id": "8831d858",
   "metadata": {},
   "source": [
    "### Taking input in list"
   ]
  },
  {
   "cell_type": "code",
   "execution_count": 18,
   "id": "6d14c8dd",
   "metadata": {},
   "outputs": [
    {
     "name": "stdout",
     "output_type": "stream",
     "text": [
      "5\n"
     ]
    },
    {
     "data": {
      "text/plain": [
       "'5'"
      ]
     },
     "execution_count": 18,
     "metadata": {},
     "output_type": "execute_result"
    }
   ],
   "source": [
    "# Line separated input\n",
    "n=input()\n",
    "n"
   ]
  },
  {
   "cell_type": "code",
   "execution_count": 39,
   "id": "20c7665f",
   "metadata": {},
   "outputs": [
    {
     "name": "stdout",
     "output_type": "stream",
     "text": [
      "4\n",
      "2\n",
      "5\n",
      "6\n",
      "8\n"
     ]
    }
   ],
   "source": [
    "n=int(input())\n",
    "\n",
    "li=[]\n",
    "for i in range(n):\n",
    "    curr=int(input())\n",
    "    li.append(curr)"
   ]
  },
  {
   "cell_type": "code",
   "execution_count": 40,
   "id": "c5cb32ed",
   "metadata": {},
   "outputs": [
    {
     "data": {
      "text/plain": [
       "[2, 5, 6, 8]"
      ]
     },
     "execution_count": 40,
     "metadata": {},
     "output_type": "execute_result"
    }
   ],
   "source": [
    "li"
   ]
  },
  {
   "cell_type": "markdown",
   "id": "c99b2383",
   "metadata": {},
   "source": [
    "### Space seprated input of list"
   ]
  },
  {
   "cell_type": "code",
   "execution_count": 10,
   "id": "17a40bc2",
   "metadata": {},
   "outputs": [
    {
     "name": "stdout",
     "output_type": "stream",
     "text": [
      "1 2 3 5 \n"
     ]
    },
    {
     "data": {
      "text/plain": [
       "['1', '2', '3', '5', '']"
      ]
     },
     "execution_count": 10,
     "metadata": {},
     "output_type": "execute_result"
    }
   ],
   "source": [
    "str=input()\n",
    "li=[]\n",
    "str_split=str.split(\" \")\n",
    "str_split"
   ]
  },
  {
   "cell_type": "code",
   "execution_count": 32,
   "id": "29b70a12",
   "metadata": {},
   "outputs": [
    {
     "name": "stdout",
     "output_type": "stream",
     "text": [
      "1,2,3,4,5\n"
     ]
    },
    {
     "data": {
      "text/plain": [
       "['1', '2', '3', '4', '5']"
      ]
     },
     "execution_count": 32,
     "metadata": {},
     "output_type": "execute_result"
    }
   ],
   "source": [
    "str=input()\n",
    "str_split=str.split(',')\n",
    "str_split"
   ]
  },
  {
   "cell_type": "code",
   "execution_count": 33,
   "id": "ef5bfa9b",
   "metadata": {},
   "outputs": [
    {
     "data": {
      "text/plain": [
       "[1, 2, 3, 4, 5]"
      ]
     },
     "execution_count": 33,
     "metadata": {},
     "output_type": "execute_result"
    }
   ],
   "source": [
    "for ele in str_split:\n",
    "    li.append(int(ele))\n",
    "li"
   ]
  },
  {
   "cell_type": "code",
   "execution_count": 46,
   "id": "94eed268",
   "metadata": {},
   "outputs": [
    {
     "name": "stdout",
     "output_type": "stream",
     "text": [
      "1  2\n"
     ]
    },
    {
     "data": {
      "text/plain": [
       "[1, 2]"
      ]
     },
     "execution_count": 46,
     "metadata": {},
     "output_type": "execute_result"
    }
   ],
   "source": [
    "li=[int(x) for x in input().split()]\n",
    "li"
   ]
  },
  {
   "cell_type": "markdown",
   "id": "e355eebc",
   "metadata": {},
   "source": [
    "### Linear search"
   ]
  },
  {
   "cell_type": "code",
   "execution_count": 58,
   "id": "707d20fe",
   "metadata": {},
   "outputs": [
    {
     "name": "stdout",
     "output_type": "stream",
     "text": [
      "6\n",
      "2 7 5 16 21 286\n",
      "16\n",
      "3\n"
     ]
    }
   ],
   "source": [
    "n=int(input())\n",
    "li=[int(x) for x in input().split()]\n",
    "\n",
    "ele=int(input()) #no. to find\n",
    "\n",
    "isFound= False\n",
    "for i in range(len(li)):\n",
    "    if li[i]== ele:\n",
    "        print(i)\n",
    "        isFound= True\n",
    "        break\n",
    "if isFound is False:\n",
    "    print(-1)"
   ]
  },
  {
   "cell_type": "markdown",
   "id": "81f76087",
   "metadata": {},
   "source": [
    "### Linear search through functions"
   ]
  },
  {
   "cell_type": "code",
   "execution_count": 62,
   "id": "ef9e71ee",
   "metadata": {},
   "outputs": [],
   "source": [
    "def linear_search(li,ele):\n",
    "    #li is the list and ele is the element to be searched\n",
    "    for i in range(len(li)):\n",
    "        if li[i]==ele:\n",
    "            return i\n",
    "    return -1"
   ]
  },
  {
   "cell_type": "code",
   "execution_count": 64,
   "id": "bf2dd2c0",
   "metadata": {},
   "outputs": [
    {
     "name": "stdout",
     "output_type": "stream",
     "text": [
      "-1\n"
     ]
    }
   ],
   "source": [
    "li=[1,2,3,4,5]\n",
    "index= linear_search(li,9)\n",
    "print(index)"
   ]
  },
  {
   "cell_type": "markdown",
   "id": "9852127b",
   "metadata": {},
   "source": [
    "### Mutable And Immutable Concept"
   ]
  },
  {
   "cell_type": "code",
   "execution_count": 65,
   "id": "7a8830f5",
   "metadata": {},
   "outputs": [
    {
     "name": "stdout",
     "output_type": "stream",
     "text": [
      "2859807566192\n",
      "2859807566192\n"
     ]
    }
   ],
   "source": [
    "# Immutable\n",
    "x=3\n",
    "a=3\n",
    "print(id(x))\n",
    "print(id(a))"
   ]
  },
  {
   "cell_type": "code",
   "execution_count": 66,
   "id": "d1bae57e",
   "metadata": {},
   "outputs": [
    {
     "name": "stdout",
     "output_type": "stream",
     "text": [
      "[1, 4, 3]\n"
     ]
    }
   ],
   "source": [
    "# Mutable\n",
    "li=[1,2,3]\n",
    "li2=li\n",
    "li2[1]=4\n",
    "print(li)"
   ]
  },
  {
   "cell_type": "markdown",
   "id": "8e9aedbc",
   "metadata": {},
   "source": [
    "### Passing Variable Through Functions"
   ]
  },
  {
   "cell_type": "code",
   "execution_count": 11,
   "id": "0aece0ba",
   "metadata": {},
   "outputs": [
    {
     "name": "stdout",
     "output_type": "stream",
     "text": [
      "2\n"
     ]
    }
   ],
   "source": [
    "a=2\n",
    "def increment(a):\n",
    "    a=a+2\n",
    "    return a\n",
    "\n",
    "\n",
    "increment(a)\n",
    "print(a)"
   ]
  },
  {
   "cell_type": "code",
   "execution_count": 75,
   "id": "42490e7f",
   "metadata": {},
   "outputs": [
    {
     "name": "stdout",
     "output_type": "stream",
     "text": [
      "4\n"
     ]
    }
   ],
   "source": [
    "def increment(a):\n",
    "    a=a+2\n",
    "    return a\n",
    "\n",
    "a=2/\n",
    "a=increment(a)\n",
    "print(a)"
   ]
  },
  {
   "cell_type": "markdown",
   "id": "bfb5fcb5",
   "metadata": {},
   "source": [
    "### Passing List Through Functions"
   ]
  },
  {
   "cell_type": "code",
   "execution_count": 12,
   "id": "cd6405ae",
   "metadata": {},
   "outputs": [
    {
     "name": "stdout",
     "output_type": "stream",
     "text": [
      "[3, 2, 3, 4]\n"
     ]
    }
   ],
   "source": [
    "def increment(li):\n",
    "    li[0]=li[0]+2\n",
    "    return \n",
    "\n",
    "li=[1,2,3,4] #lists are mutable\n",
    "increment(li)\n",
    "print(li)"
   ]
  },
  {
   "cell_type": "code",
   "execution_count": 18,
   "id": "ed29148a",
   "metadata": {},
   "outputs": [
    {
     "name": "stdout",
     "output_type": "stream",
     "text": [
      "[1, 2, 3, 4]\n"
     ]
    }
   ],
   "source": [
    "def increment(li):\n",
    "    li=[3,3,4]\n",
    "    return \n",
    "\n",
    "li=[1,2,3,4] \n",
    "increment(li)\n",
    "print(li)"
   ]
  },
  {
   "cell_type": "markdown",
   "id": "1214b9cd",
   "metadata": {},
   "source": [
    "### Reverse a list"
   ]
  },
  {
   "cell_type": "code",
   "execution_count": 91,
   "id": "90ce5b4a",
   "metadata": {},
   "outputs": [
    {
     "name": "stdout",
     "output_type": "stream",
     "text": [
      "[6, 5, 4, 3, 2, 1]\n"
     ]
    }
   ],
   "source": [
    "def rev(li):\n",
    "    length=len(li)\n",
    "    for i in range(length//2):\n",
    "        li[i],li[length-i-1]=li[length-i-1],li[i]\n",
    "    print(li)\n",
    "    \n",
    "li=[1,2,3,4,5,6]\n",
    "rev(li)"
   ]
  },
  {
   "cell_type": "code",
   "execution_count": 94,
   "id": "12e58d5f",
   "metadata": {},
   "outputs": [
    {
     "data": {
      "text/plain": [
       "[6, 5, 4, 3, 2, 1]"
      ]
     },
     "execution_count": 94,
     "metadata": {},
     "output_type": "execute_result"
    }
   ],
   "source": [
    "li=[1,2,3,4,5,6]\n",
    "li[::-1]"
   ]
  }
 ],
 "metadata": {
  "kernelspec": {
   "display_name": "Python 3 (ipykernel)",
   "language": "python",
   "name": "python3"
  },
  "language_info": {
   "codemirror_mode": {
    "name": "ipython",
    "version": 3
   },
   "file_extension": ".py",
   "mimetype": "text/x-python",
   "name": "python",
   "nbconvert_exporter": "python",
   "pygments_lexer": "ipython3",
   "version": "3.9.7"
  }
 },
 "nbformat": 4,
 "nbformat_minor": 5
}
