{
 "cells": [
  {
   "cell_type": "markdown",
   "id": "b446dc87",
   "metadata": {},
   "source": [
    "### Binary Search"
   ]
  },
  {
   "cell_type": "code",
   "execution_count": 3,
   "id": "1b137c22",
   "metadata": {},
   "outputs": [],
   "source": [
    "def binary_search(arr,ele,debug=False):\n",
    "    l=0\n",
    "    u=len(arr)-1\n",
    "    \n",
    "    while l<=u:\n",
    "        m=(l+u)//2\n",
    "        if debug:\n",
    "            print('lower bound', l)\n",
    "            print(\"upper bound\",u)\n",
    "            print(\"middel bound\",m)\n",
    "        if ele == arr[m]:\n",
    "            return m\n",
    "        elif ele<arr[m]:\n",
    "            u=m-1\n",
    "        else:\n",
    "            l=m+1\n",
    "            \n",
    "    return -1"
   ]
  },
  {
   "cell_type": "code",
   "execution_count": 5,
   "id": "6e07b5e7",
   "metadata": {},
   "outputs": [
    {
     "data": {
      "text/plain": [
       "3"
      ]
     },
     "execution_count": 5,
     "metadata": {},
     "output_type": "execute_result"
    }
   ],
   "source": [
    "arr=[12,34,45,56,67,89]\n",
    "x1=56\n",
    "x2=57\n",
    "binary_search(arr,x1,debug=False)"
   ]
  },
  {
   "cell_type": "markdown",
   "id": "8e9c4ee6",
   "metadata": {},
   "source": [
    "### Selection Sort "
   ]
  },
  {
   "cell_type": "code",
   "execution_count": 11,
   "id": "322d07ce",
   "metadata": {},
   "outputs": [],
   "source": [
    "def selection_sort(a):\n",
    "    for i in range(len(a)):\n",
    "        min=i\n",
    "        for j in range(i+1,len(a)):\n",
    "            if a[j]<a[min]:\n",
    "                min=j\n",
    "        a[i],a[min]=a[min],a[i]\n",
    "        \n",
    "    return a"
   ]
  },
  {
   "cell_type": "code",
   "execution_count": 12,
   "id": "aa573a18",
   "metadata": {},
   "outputs": [
    {
     "data": {
      "text/plain": [
       "[1, 2, 3, 34, 62, 75, 235, 326, 743]"
      ]
     },
     "execution_count": 12,
     "metadata": {},
     "output_type": "execute_result"
    }
   ],
   "source": [
    "a=[1,2,235,62,75,326,743,3,34]\n",
    "selection_sort(a)"
   ]
  },
  {
   "cell_type": "markdown",
   "id": "cb561367",
   "metadata": {},
   "source": [
    "### Bubble Sort"
   ]
  },
  {
   "cell_type": "code",
   "execution_count": 25,
   "id": "6184c43d",
   "metadata": {},
   "outputs": [],
   "source": [
    "def bubble_sort(a):\n",
    "    for i in range(len(a)):\n",
    "        for j in range(i+1,len(a)):\n",
    "            if a[i]>a[j]:\n",
    "                a[i],a[j]=a[j],a[i]\n",
    "                print(a[i],a[j])\n",
    "                print(a)\n",
    "    print('ans',a)"
   ]
  },
  {
   "cell_type": "code",
   "execution_count": 26,
   "id": "37052e94",
   "metadata": {},
   "outputs": [
    {
     "name": "stdout",
     "output_type": "stream",
     "text": [
      "5 8\n",
      "[5, 8, 3, 1]\n",
      "3 5\n",
      "[3, 8, 5, 1]\n",
      "1 3\n",
      "[1, 8, 5, 3]\n",
      "5 8\n",
      "[1, 5, 8, 3]\n",
      "3 5\n",
      "[1, 3, 8, 5]\n",
      "5 8\n",
      "[1, 3, 5, 8]\n",
      "ans [1, 3, 5, 8]\n"
     ]
    }
   ],
   "source": [
    "a=[8,5,3,1]\n",
    "bubble_sort(a)"
   ]
  },
  {
   "cell_type": "markdown",
   "id": "8d89ce48",
   "metadata": {},
   "source": [
    "### Optimising Bubble Sort"
   ]
  },
  {
   "cell_type": "code",
   "execution_count": 28,
   "id": "f74e93eb",
   "metadata": {},
   "outputs": [],
   "source": [
    "def bubble_sort(a):\n",
    "    for i in range(len(a)-1):\n",
    "        for j in range(len(a)-1-i):\n",
    "            if a[j]>a[j+1]:\n",
    "                a[j+1],a[j]=a[j],a[j+1]\n",
    "                print(a[j],a[j+1])\n",
    "                print(a)\n",
    "    print('ans',a)"
   ]
  },
  {
   "cell_type": "code",
   "execution_count": 29,
   "id": "27ff1c26",
   "metadata": {},
   "outputs": [
    {
     "name": "stdout",
     "output_type": "stream",
     "text": [
      "5 8\n",
      "[5, 8, 5, 3, 1]\n",
      "5 8\n",
      "[5, 5, 8, 3, 1]\n",
      "3 8\n",
      "[5, 5, 3, 8, 1]\n",
      "1 8\n",
      "[5, 5, 3, 1, 8]\n",
      "3 5\n",
      "[5, 3, 5, 1, 8]\n",
      "1 5\n",
      "[5, 3, 1, 5, 8]\n",
      "3 5\n",
      "[3, 5, 1, 5, 8]\n",
      "1 5\n",
      "[3, 1, 5, 5, 8]\n",
      "1 3\n",
      "[1, 3, 5, 5, 8]\n",
      "ans [1, 3, 5, 5, 8]\n"
     ]
    }
   ],
   "source": [
    "a=[8,5,5,3,1]\n",
    "bubble_sort(a)"
   ]
  },
  {
   "cell_type": "markdown",
   "id": "04b0dfc5",
   "metadata": {},
   "source": [
    "### Insertion Sort"
   ]
  },
  {
   "cell_type": "code",
   "execution_count": 104,
   "id": "e6e4bf7c",
   "metadata": {},
   "outputs": [],
   "source": [
    "def insertionSort(arr):\n",
    "    \n",
    "    length= len(arr)\n",
    "    for i in range(1, length):\n",
    "        j=i-1\n",
    "        temp =arr[i]\n",
    "        #Shifting elements till this condition holds \n",
    "        while(j>=0 and arr[j] > temp):\n",
    "            arr[j+1]= arr[j]\n",
    "            j=j-1\n",
    "        #jth is correct position for ith element\n",
    "        arr[j+1] =temp"
   ]
  },
  {
   "cell_type": "code",
   "execution_count": 105,
   "id": "f1a9d7c5",
   "metadata": {},
   "outputs": [
    {
     "name": "stdout",
     "output_type": "stream",
     "text": [
      "[1, 2, 3, 5, 5, 7, 8]\n"
     ]
    }
   ],
   "source": [
    "p=[8,5,3,1,2,5,7,]\n",
    "insertionSort(p)\n",
    "print(p)"
   ]
  },
  {
   "cell_type": "markdown",
   "id": "fca03f9a",
   "metadata": {},
   "source": [
    "### Merge Two Sorted Arrays"
   ]
  },
  {
   "cell_type": "code",
   "execution_count": 33,
   "id": "90744015",
   "metadata": {},
   "outputs": [],
   "source": [
    "def merge2array(a1,a2,debug=False):\n",
    "    i,j=0,0\n",
    "    len1,len2=len(a1),len(a2)\n",
    "    new=[]\n",
    "    \n",
    "    while(i<len1 and j<len2):\n",
    "        if a1[i]<a2[j]:\n",
    "            new.append(a1[i])\n",
    "            i+=1\n",
    "        else:\n",
    "            new.append(a2[j])\n",
    "            j+=1\n",
    "    while(i<len1):\n",
    "        new.append(a1[i])\n",
    "        i+=1\n",
    "    while(j<len2):\n",
    "        new.append(a2[j])\n",
    "        j+=1\n",
    "        \n",
    "    return new"
   ]
  },
  {
   "cell_type": "code",
   "execution_count": 34,
   "id": "fb12014a",
   "metadata": {},
   "outputs": [
    {
     "data": {
      "text/plain": [
       "[1, 3, 4, 4, 7, 9, 11, 11, 13]"
      ]
     },
     "execution_count": 34,
     "metadata": {},
     "output_type": "execute_result"
    }
   ],
   "source": [
    "a1=[1,3,4,7,11]\n",
    "a2=[4,9,11,13]\n",
    "merge2array(a1,a2,debug=False)"
   ]
  },
  {
   "cell_type": "code",
   "execution_count": null,
   "id": "6ee871ec",
   "metadata": {},
   "outputs": [],
   "source": []
  }
 ],
 "metadata": {
  "kernelspec": {
   "display_name": "Python 3 (ipykernel)",
   "language": "python",
   "name": "python3"
  },
  "language_info": {
   "codemirror_mode": {
    "name": "ipython",
    "version": 3
   },
   "file_extension": ".py",
   "mimetype": "text/x-python",
   "name": "python",
   "nbconvert_exporter": "python",
   "pygments_lexer": "ipython3",
   "version": "3.9.7"
  }
 },
 "nbformat": 4,
 "nbformat_minor": 5
}
