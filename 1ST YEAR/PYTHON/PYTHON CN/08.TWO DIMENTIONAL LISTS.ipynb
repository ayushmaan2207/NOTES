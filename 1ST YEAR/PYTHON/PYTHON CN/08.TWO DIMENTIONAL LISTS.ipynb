{
 "cells": [
  {
   "cell_type": "markdown",
   "id": "056c26f5",
   "metadata": {},
   "source": [
    "### Intro to 2D lists"
   ]
  },
  {
   "cell_type": "code",
   "execution_count": 2,
   "id": "ef934c7c",
   "metadata": {},
   "outputs": [
    {
     "data": {
      "text/plain": [
       "12"
      ]
     },
     "execution_count": 2,
     "metadata": {},
     "output_type": "execute_result"
    }
   ],
   "source": [
    "li=[[1,2,3,4],[5,6,7,8],[9,10,11,12],[13,14,15,16]]\n",
    "li[2][3]"
   ]
  },
  {
   "cell_type": "markdown",
   "id": "7d479a91",
   "metadata": {},
   "source": [
    "### How Two Dimensional Lists Are actually stored"
   ]
  },
  {
   "cell_type": "code",
   "execution_count": 4,
   "id": "831b5f0e",
   "metadata": {},
   "outputs": [
    {
     "name": "stdout",
     "output_type": "stream",
     "text": [
      "2660029229696\n",
      "2659948325328\n"
     ]
    }
   ],
   "source": [
    "li=[[1,2,3,4],[5,6,7,8]]\n",
    "print(id(li[1]))\n",
    "print(id(li[1][1]))"
   ]
  },
  {
   "cell_type": "markdown",
   "id": "6ee201d6",
   "metadata": {},
   "source": [
    "### Jagged lists"
   ]
  },
  {
   "cell_type": "code",
   "execution_count": 6,
   "id": "1f03a6e6",
   "metadata": {},
   "outputs": [
    {
     "data": {
      "text/plain": [
       "9"
      ]
     },
     "execution_count": 6,
     "metadata": {},
     "output_type": "execute_result"
    }
   ],
   "source": [
    "li=[[1,2,3,4],[5,6,7],[8,9],[10,11]]\n",
    "li[2][1]"
   ]
  },
  {
   "cell_type": "code",
   "execution_count": 7,
   "id": "36efe424",
   "metadata": {},
   "outputs": [
    {
     "name": "stdout",
     "output_type": "stream",
     "text": [
      "[7, 8, 9]\n"
     ]
    }
   ],
   "source": [
    "li = [[1,2,3,4],[5,6],[7,8,9]]\n",
    "print(li[2])"
   ]
  },
  {
   "cell_type": "markdown",
   "id": "59aaae59",
   "metadata": {},
   "source": [
    "### List Comprehension"
   ]
  },
  {
   "cell_type": "code",
   "execution_count": 2,
   "id": "0e77d859",
   "metadata": {},
   "outputs": [
    {
     "name": "stdout",
     "output_type": "stream",
     "text": [
      "2 3\n",
      "<class 'list'>\n",
      "2 3\n",
      "5 6\n"
     ]
    },
    {
     "data": {
      "text/plain": [
       "[['2', '3', 0], ['5', '6', 0]]"
      ]
     },
     "execution_count": 2,
     "metadata": {},
     "output_type": "execute_result"
    }
   ],
   "source": [
    "a=input().split()\n",
    "print(type(a))\n",
    "n,m=int(a[0]),int(a[1])\n",
    "li=[[0 for j in range(m)] for i in range(n)]\n",
    "for i in range(n):\n",
    "    b=input().split()\n",
    "    c=[0 for i in range(m)]\n",
    "    if len(b)>m:\n",
    "        c=b[:m]\n",
    "        li[i]=c\n",
    "    else:\n",
    "        for j in range(len(b)):\n",
    "            c[j]=b[j]\n",
    "        li[i]=c\n",
    "li"
   ]
  },
  {
   "cell_type": "code",
   "execution_count": 17,
   "id": "d52fb3df",
   "metadata": {},
   "outputs": [
    {
     "name": "stdout",
     "output_type": "stream",
     "text": [
      "[1, 4, 9, 16]\n"
     ]
    }
   ],
   "source": [
    "li=[1,2,3,4]\n",
    "li_new=[]\n",
    "for ele in li:\n",
    "    li_new.append(ele**2)\n",
    "print(li_new)"
   ]
  },
  {
   "cell_type": "code",
   "execution_count": 4,
   "id": "57151f08",
   "metadata": {},
   "outputs": [
    {
     "name": "stdout",
     "output_type": "stream",
     "text": [
      "[1, 4, 9, 16]\n"
     ]
    }
   ],
   "source": [
    "def s(li):\n",
    "    for i in range(len(li)):\n",
    "        li[i]=li[i]**2\n",
    "    return \n",
    "li=[1,2,3,4] \n",
    "s(li)\n",
    "print(li)"
   ]
  },
  {
   "cell_type": "code",
   "execution_count": 19,
   "id": "2d6fa15f",
   "metadata": {},
   "outputs": [
    {
     "data": {
      "text/plain": [
       "[1, 4, 9, 16]"
      ]
     },
     "execution_count": 19,
     "metadata": {},
     "output_type": "execute_result"
    }
   ],
   "source": [
    "li_new2= [ele**2 for ele in li]\n",
    "li_new2"
   ]
  },
  {
   "cell_type": "code",
   "execution_count": 20,
   "id": "071b644a",
   "metadata": {},
   "outputs": [
    {
     "data": {
      "text/plain": [
       "[4, 16]"
      ]
     },
     "execution_count": 20,
     "metadata": {},
     "output_type": "execute_result"
    }
   ],
   "source": [
    "li_even=[ele**2 for ele in li if ele%2==0]\n",
    "li_even"
   ]
  },
  {
   "cell_type": "code",
   "execution_count": 23,
   "id": "9327dac5",
   "metadata": {},
   "outputs": [
    {
     "name": "stdout",
     "output_type": "stream",
     "text": [
      "[2, 4]\n"
     ]
    }
   ],
   "source": [
    "li1=[1,2,3,4,5]\n",
    "li2=[2,4,6,7]\n",
    "li_inter=[]\n",
    "for ele1 in li1:\n",
    "    for ele2 in li2:\n",
    "        if ele1==ele2:\n",
    "            li_inter.append(ele1)\n",
    "print(li_inter)"
   ]
  },
  {
   "cell_type": "code",
   "execution_count": 24,
   "id": "7d3b5167",
   "metadata": {},
   "outputs": [
    {
     "name": "stdout",
     "output_type": "stream",
     "text": [
      "[2, 4]\n"
     ]
    }
   ],
   "source": [
    "li1=[1,2,3,4,5]\n",
    "li2=[2,4,6,7]\n",
    "li_inter=[ele1 for ele1 in li1 for ele2 in li2 if ele1==ele2]\n",
    "print(li_inter)"
   ]
  },
  {
   "cell_type": "code",
   "execution_count": 26,
   "id": "ba01c318",
   "metadata": {},
   "outputs": [
    {
     "name": "stdout",
     "output_type": "stream",
     "text": [
      "[1, 4, 3, 16, 5]\n"
     ]
    }
   ],
   "source": [
    "li=[1,2,3,4,5]\n",
    "linew=[ele**2 if ele%2==0 else ele for ele in li]\n",
    "print(linew)"
   ]
  },
  {
   "cell_type": "code",
   "execution_count": 28,
   "id": "2095b644",
   "metadata": {},
   "outputs": [
    {
     "data": {
      "text/plain": [
       "['a', 'y', 'u', 's', 'h']"
      ]
     },
     "execution_count": 28,
     "metadata": {},
     "output_type": "execute_result"
    }
   ],
   "source": [
    "s='ayush'\n",
    "li=[ele for ele in s]\n",
    "li"
   ]
  },
  {
   "cell_type": "code",
   "execution_count": 31,
   "id": "ea8242b6",
   "metadata": {},
   "outputs": [
    {
     "name": "stdout",
     "output_type": "stream",
     "text": [
      "[['a', 'y', 'u', 's', 'h'], ['h', 'e', 'l', 'l', 'o'], ['w', 'o', 'r', 'l', 'd']]\n"
     ]
    }
   ],
   "source": [
    "li=['ayush','hello','world']\n",
    "li_2d=[[s for s in ele ] for ele in li]\n",
    "print(li_2d)"
   ]
  },
  {
   "cell_type": "markdown",
   "id": "fa61168f",
   "metadata": {},
   "source": [
    "### Input Of Two Dimensional Lists"
   ]
  },
  {
   "cell_type": "code",
   "execution_count": 4,
   "id": "ac018579",
   "metadata": {},
   "outputs": [
    {
     "name": "stdout",
     "output_type": "stream",
     "text": [
      "3 4\n",
      "1 2 3 4 5\n",
      "1 2 4 5\n",
      " 1 2 3\n"
     ]
    },
    {
     "data": {
      "text/plain": [
       "[[1, 2, 3, 4, 5], [1, 2, 4, 5], [1, 2, 3]]"
      ]
     },
     "execution_count": 4,
     "metadata": {},
     "output_type": "execute_result"
    }
   ],
   "source": [
    "str=input().split()\n",
    "n,m=int(str[0]),int(str[1])\n",
    "li=[[int(j) for j in input().split()] for i in range(n)]\n",
    "li"
   ]
  },
  {
   "cell_type": "code",
   "execution_count": 5,
   "id": "1588aa65",
   "metadata": {},
   "outputs": [
    {
     "name": "stdout",
     "output_type": "stream",
     "text": [
      "5\n",
      "1 2 3 4\n",
      "1 2\n",
      "1 2 3\n",
      "1 5 9 6 3\n",
      "5 4 8 9 1 4\n"
     ]
    },
    {
     "data": {
      "text/plain": [
       "[[1, 2, 3, 4], [1, 2], [1, 2, 3], [1, 5, 9, 6, 3], [5, 4, 8, 9, 1, 4]]"
      ]
     },
     "execution_count": 5,
     "metadata": {},
     "output_type": "execute_result"
    }
   ],
   "source": [
    "n=int(input())\n",
    "li=[[int(j) for j in input().split()] for i in range(n)]\n",
    "li"
   ]
  },
  {
   "cell_type": "code",
   "execution_count": 6,
   "id": "4c412dbe",
   "metadata": {},
   "outputs": [
    {
     "name": "stdout",
     "output_type": "stream",
     "text": [
      "3 4\n",
      "1 2 3 4 5 6 7 8 9 10 11 12\n"
     ]
    },
    {
     "data": {
      "text/plain": [
       "[[1, 2, 3, 4], [5, 6, 7, 8], [9, 10, 11, 12]]"
      ]
     },
     "execution_count": 6,
     "metadata": {},
     "output_type": "execute_result"
    }
   ],
   "source": [
    "str=input().split()\n",
    "n,m=int(str[0]),int(str[1])\n",
    "b=input().split()\n",
    "arr=[[int(b[m*i+j]) for j in range(m)] for i in range(n)]\n",
    "arr"
   ]
  },
  {
   "cell_type": "code",
   "execution_count": 7,
   "id": "db935d1c",
   "metadata": {},
   "outputs": [
    {
     "name": "stdout",
     "output_type": "stream",
     "text": [
      "3 3 1 2 3 4 5 6 7 8 9\n"
     ]
    },
    {
     "data": {
      "text/plain": [
       "[[1, 2, 3], [4, 5, 6], [7, 8, 9]]"
      ]
     },
     "execution_count": 7,
     "metadata": {},
     "output_type": "execute_result"
    }
   ],
   "source": [
    "str=input().split()\n",
    "n,m=int(str[0]),int(str[1])\n",
    "b=str[2:]\n",
    "arr=[[int(b[m*i+j]) for j in range(m)] for i in range(n)]\n",
    "arr"
   ]
  },
  {
   "cell_type": "markdown",
   "id": "1a45b52d",
   "metadata": {},
   "source": [
    "### Printing Two Dimensional Lists"
   ]
  },
  {
   "cell_type": "code",
   "execution_count": 12,
   "id": "ac8e8d8c",
   "metadata": {},
   "outputs": [
    {
     "name": "stdout",
     "output_type": "stream",
     "text": [
      "1 2 3 4 \n",
      "5 6 7 8 \n",
      "9 10 11 12 \n"
     ]
    }
   ],
   "source": [
    "li=[[1,2,3,4],[5,6,7,8],[9,10,11,12]]\n",
    "n=3\n",
    "m=4\n",
    "for i in range(n):\n",
    "    for j in range(m):\n",
    "        print(li[i][j],end=' ')\n",
    "    print()"
   ]
  },
  {
   "cell_type": "code",
   "execution_count": 5,
   "id": "f6e59fd7",
   "metadata": {},
   "outputs": [
    {
     "name": "stdout",
     "output_type": "stream",
     "text": [
      "1 2 3 4 \n",
      "5 6 \n",
      "9 10 11 \n"
     ]
    }
   ],
   "source": [
    "li = [[1,2,3,4],[5,6],[9,10,11]]\n",
    "for row in li:\n",
    "    for ele in row:\n",
    "        print(ele,end=\" \")\n",
    "    print()"
   ]
  },
  {
   "cell_type": "code",
   "execution_count": 6,
   "id": "dd412f8e",
   "metadata": {},
   "outputs": [
    {
     "data": {
      "text/plain": [
       "'1abc2abc3'"
      ]
     },
     "execution_count": 6,
     "metadata": {},
     "output_type": "execute_result"
    }
   ],
   "source": [
    "# join function\n",
    "'abc'.join(['1','2','3'])"
   ]
  },
  {
   "cell_type": "code",
   "execution_count": 3,
   "id": "d532c428",
   "metadata": {},
   "outputs": [
    {
     "name": "stdout",
     "output_type": "stream",
     "text": [
      "1 2 3 4\n",
      "5 6\n",
      "9 10 11\n"
     ]
    }
   ],
   "source": [
    "li = [[1,2,3,4],[5,6],[9,10,11]]\n",
    "for row in li:\n",
    "    out = ' '.join([ str(ele) for ele in row])\n",
    "    print(out)"
   ]
  },
  {
   "cell_type": "markdown",
   "id": "e89a4905",
   "metadata": {},
   "source": [
    "### Largest Column Sum In 2D list"
   ]
  },
  {
   "cell_type": "code",
   "execution_count": 3,
   "id": "dbd50b6e",
   "metadata": {},
   "outputs": [
    {
     "name": "stdout",
     "output_type": "stream",
     "text": [
      "24 3\n"
     ]
    }
   ],
   "source": [
    "def lar_col_sum(li):\n",
    "    n= len(li)\n",
    "    m= len(li[0])\n",
    "    max_sum=-1\n",
    "    max_index=-1\n",
    "    for j in range(m):\n",
    "        sum=0\n",
    "        for i in range(n):\n",
    "            sum+=li[i][j]\n",
    "        if sum>max_sum:\n",
    "            max_index=j\n",
    "            max_sum=sum\n",
    "    return max_sum,max_index\n",
    "\n",
    "li=[[1,2,3,4],[5,6,7,8],[9,10,11,12]]\n",
    "lar_sum,lar_col_index=lar_col_sum(li)\n",
    "print(lar_sum,lar_col_index)"
   ]
  },
  {
   "cell_type": "code",
   "execution_count": 7,
   "id": "7a2b56a6",
   "metadata": {},
   "outputs": [
    {
     "name": "stdout",
     "output_type": "stream",
     "text": [
      "24 3\n"
     ]
    }
   ],
   "source": [
    "def lar_col_sum(li):\n",
    "    n= len(li)\n",
    "    m= len(li[0])\n",
    "    max_sum=-1\n",
    "    max_index=-1\n",
    "    for j in range(m):\n",
    "        sum=0\n",
    "        for ele in li:\n",
    "            sum+=ele[j]\n",
    "        if sum>max_sum:\n",
    "            max_index=j\n",
    "            max_sum=sum\n",
    "    return max_sum,max_index\n",
    "\n",
    "li=[[1,2,3,4],[5,6,7,8],[9,10,11,12]]\n",
    "lar_sum,lar_col_index=lar_col_sum(li)\n",
    "print(lar_sum,lar_col_index)"
   ]
  }
 ],
 "metadata": {
  "kernelspec": {
   "display_name": "Python 3 (ipykernel)",
   "language": "python",
   "name": "python3"
  },
  "language_info": {
   "codemirror_mode": {
    "name": "ipython",
    "version": 3
   },
   "file_extension": ".py",
   "mimetype": "text/x-python",
   "name": "python",
   "nbconvert_exporter": "python",
   "pygments_lexer": "ipython3",
   "version": "3.9.7"
  }
 },
 "nbformat": 4,
 "nbformat_minor": 5
}
