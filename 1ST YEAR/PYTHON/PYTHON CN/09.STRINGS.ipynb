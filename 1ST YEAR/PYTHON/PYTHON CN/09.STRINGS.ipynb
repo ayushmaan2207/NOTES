{
 "cells": [
  {
   "cell_type": "markdown",
   "id": "4358c732",
   "metadata": {},
   "source": [
    "### Introduction to Strings"
   ]
  },
  {
   "cell_type": "code",
   "execution_count": 2,
   "id": "cb5f2736",
   "metadata": {},
   "outputs": [
    {
     "name": "stdout",
     "output_type": "stream",
     "text": [
      "ayush\n",
      "ayush\n",
      "ayush\n"
     ]
    }
   ],
   "source": [
    "a=\"ayush\"\n",
    "b='ayush'\n",
    "c='''ayush'''\n",
    "print(a)\n",
    "print(b)\n",
    "print(c)"
   ]
  },
  {
   "cell_type": "code",
   "execution_count": 3,
   "id": "45fee2f8",
   "metadata": {},
   "outputs": [
    {
     "name": "stdout",
     "output_type": "stream",
     "text": [
      "my\n",
      "name is\n",
      "ayush\n"
     ]
    }
   ],
   "source": [
    "s='''my\n",
    "name is\n",
    "ayush'''\n",
    "print(s)"
   ]
  },
  {
   "cell_type": "code",
   "execution_count": 6,
   "id": "b64d3a64",
   "metadata": {},
   "outputs": [
    {
     "name": "stdout",
     "output_type": "stream",
     "text": [
      "h\n"
     ]
    },
    {
     "data": {
      "text/plain": [
       "'o'"
      ]
     },
     "execution_count": 6,
     "metadata": {},
     "output_type": "execute_result"
    }
   ],
   "source": [
    "s='hello'\n",
    "print(s[0])\n",
    "s[-1]"
   ]
  },
  {
   "cell_type": "code",
   "execution_count": 4,
   "id": "8b4f4dc6",
   "metadata": {},
   "outputs": [
    {
     "data": {
      "text/plain": [
       "'my \\nname '"
      ]
     },
     "execution_count": 4,
     "metadata": {},
     "output_type": "execute_result"
    }
   ],
   "source": [
    "s='''my \n",
    "name '''\n",
    "s"
   ]
  },
  {
   "cell_type": "markdown",
   "id": "089edbbe",
   "metadata": {},
   "source": [
    "### How String are Stored?\n",
    "    ~immutable in nature"
   ]
  },
  {
   "cell_type": "code",
   "execution_count": 9,
   "id": "0e4fbac2",
   "metadata": {},
   "outputs": [
    {
     "name": "stdout",
     "output_type": "stream",
     "text": [
      "2882247411568\n",
      "2882265799216\n",
      "2882247411568\n"
     ]
    }
   ],
   "source": [
    "s='ayush'\n",
    "print(id(s))\n",
    "a='hello'\n",
    "print(id(a))\n",
    "a='ayush'\n",
    "print(id(a))"
   ]
  },
  {
   "cell_type": "code",
   "execution_count": 10,
   "id": "786a5ff5",
   "metadata": {},
   "outputs": [
    {
     "ename": "TypeError",
     "evalue": "'str' object does not support item assignment",
     "output_type": "error",
     "traceback": [
      "\u001b[1;31m---------------------------------------------------------------------------\u001b[0m",
      "\u001b[1;31mTypeError\u001b[0m                                 Traceback (most recent call last)",
      "\u001b[1;32m~\\AppData\\Local\\Temp/ipykernel_115304/2220398347.py\u001b[0m in \u001b[0;36m<module>\u001b[1;34m\u001b[0m\n\u001b[0;32m      1\u001b[0m \u001b[0ma\u001b[0m\u001b[1;33m=\u001b[0m\u001b[1;34m'hello'\u001b[0m\u001b[1;33m\u001b[0m\u001b[1;33m\u001b[0m\u001b[0m\n\u001b[1;32m----> 2\u001b[1;33m \u001b[0ma\u001b[0m\u001b[1;33m[\u001b[0m\u001b[1;36m0\u001b[0m\u001b[1;33m]\u001b[0m\u001b[1;33m=\u001b[0m\u001b[1;34m'k'\u001b[0m\u001b[1;33m\u001b[0m\u001b[1;33m\u001b[0m\u001b[0m\n\u001b[0m",
      "\u001b[1;31mTypeError\u001b[0m: 'str' object does not support item assignment"
     ]
    }
   ],
   "source": [
    "a='hello'\n",
    "a[0]='k'"
   ]
  },
  {
   "cell_type": "markdown",
   "id": "401a6196",
   "metadata": {},
   "source": [
    "### Concatenation of Strings"
   ]
  },
  {
   "cell_type": "code",
   "execution_count": 12,
   "id": "04b29c8f",
   "metadata": {},
   "outputs": [
    {
     "data": {
      "text/plain": [
       "'redbluegreen'"
      ]
     },
     "execution_count": 12,
     "metadata": {},
     "output_type": "execute_result"
    }
   ],
   "source": [
    "a='red'\n",
    "a=a+'blue'+'green' \n",
    "a"
   ]
  },
  {
   "cell_type": "code",
   "execution_count": 13,
   "id": "70faed83",
   "metadata": {},
   "outputs": [
    {
     "data": {
      "text/plain": [
       "'blueblueblue'"
      ]
     },
     "execution_count": 13,
     "metadata": {},
     "output_type": "execute_result"
    }
   ],
   "source": [
    "a='blue'\n",
    "a*3"
   ]
  },
  {
   "cell_type": "code",
   "execution_count": 15,
   "id": "2aa7bef6",
   "metadata": {},
   "outputs": [
    {
     "data": {
      "text/plain": [
       "'blue3'"
      ]
     },
     "execution_count": 15,
     "metadata": {},
     "output_type": "execute_result"
    }
   ],
   "source": [
    "a=a+str(3) #you cannot add int\n",
    "a"
   ]
  },
  {
   "cell_type": "markdown",
   "id": "f4d6cf41",
   "metadata": {},
   "source": [
    "### Slicing of Strings"
   ]
  },
  {
   "cell_type": "code",
   "execution_count": 5,
   "id": "bba8331d",
   "metadata": {},
   "outputs": [
    {
     "name": "stdout",
     "output_type": "stream",
     "text": [
      "llo\n"
     ]
    },
    {
     "data": {
      "text/plain": [
       "'olleh'"
      ]
     },
     "execution_count": 5,
     "metadata": {},
     "output_type": "execute_result"
    }
   ],
   "source": [
    "s='hello'\n",
    "print(s[2:11])\n",
    "s[::-1]"
   ]
  },
  {
   "cell_type": "markdown",
   "id": "70572d7c",
   "metadata": {},
   "source": [
    "### Iterating on Strings"
   ]
  },
  {
   "cell_type": "code",
   "execution_count": 2,
   "id": "f2b790b6",
   "metadata": {},
   "outputs": [
    {
     "name": "stdout",
     "output_type": "stream",
     "text": [
      "3\n"
     ]
    }
   ],
   "source": [
    "# how to iterate on list\n",
    "str=\"Hello World\"\n",
    "count=0\n",
    "for letter in str:\n",
    "    if letter=='l':\n",
    "        count+=1\n",
    "print(count)"
   ]
  },
  {
   "cell_type": "code",
   "execution_count": 21,
   "id": "f4dcad1f",
   "metadata": {},
   "outputs": [
    {
     "name": "stdout",
     "output_type": "stream",
     "text": [
      "3\n"
     ]
    }
   ],
   "source": [
    "str=\"Hello World\"\n",
    "count=0\n",
    "for i in range(len(str)):\n",
    "    if str[i]=='l':\n",
    "        count+=1\n",
    "print(count)"
   ]
  },
  {
   "cell_type": "code",
   "execution_count": 27,
   "id": "e814481c",
   "metadata": {},
   "outputs": [
    {
     "name": "stdout",
     "output_type": "stream",
     "text": [
      "yes it is substring\n",
      "substring\n"
     ]
    }
   ],
   "source": [
    "# in and not in operation on string\n",
    "str='hello'\n",
    "if 'hel' in str:\n",
    "    print('yes it is substring')\n",
    "else:\n",
    "    print('not a substring')\n",
    " \n",
    "sta= 'world'\n",
    "if 'ld' not in sta:\n",
    "    print('it is not substring')\n",
    "else:\n",
    "    print('substring')"
   ]
  },
  {
   "cell_type": "markdown",
   "id": "0d8e4964",
   "metadata": {},
   "source": [
    "### Comparison Operator on Strings"
   ]
  },
  {
   "cell_type": "code",
   "execution_count": 31,
   "id": "e25828d1",
   "metadata": {},
   "outputs": [
    {
     "name": "stdout",
     "output_type": "stream",
     "text": [
      "True\n",
      "False\n"
     ]
    }
   ],
   "source": [
    "a=\"ayush\" == 'ayush'\n",
    "print(a)\n",
    "a=\"ayush\" >= 'pyush' #compared based on ascii value\n",
    "print(a)"
   ]
  },
  {
   "cell_type": "code",
   "execution_count": 36,
   "id": "5378285e",
   "metadata": {},
   "outputs": [
    {
     "name": "stdout",
     "output_type": "stream",
     "text": [
      "False\n",
      "True\n"
     ]
    }
   ],
   "source": [
    "a='Ayush' >= 'ayush' # lowerCase has greater ascii value\n",
    "print(a)\n",
    "a='ayu'<=\"ayush\"\n",
    "print(a)"
   ]
  },
  {
   "cell_type": "markdown",
   "id": "f44fe679",
   "metadata": {},
   "source": [
    "### Operations on String"
   ]
  },
  {
   "cell_type": "code",
   "execution_count": 4,
   "id": "62a77b32",
   "metadata": {},
   "outputs": [
    {
     "name": "stdout",
     "output_type": "stream",
     "text": [
      "['My', 'Name', 'Is Ayushmaan']\n"
     ]
    }
   ],
   "source": [
    "#Split\n",
    "str=\"My Name Is Ayushmaan\"\n",
    "li=str.split(\" \",2)\n",
    "print(li)"
   ]
  },
  {
   "cell_type": "code",
   "execution_count": 8,
   "id": "c86dbab6",
   "metadata": {},
   "outputs": [
    {
     "name": "stdout",
     "output_type": "stream",
     "text": [
      "MyNameIs Ayushmaan\n"
     ]
    }
   ],
   "source": [
    "#join\n",
    "li=['My', 'Name', 'Is Ayushmaan']\n",
    "li1=''.join(li)\n",
    "print(li1)"
   ]
  },
  {
   "cell_type": "code",
   "execution_count": 11,
   "id": "f99cafdd",
   "metadata": {},
   "outputs": [
    {
     "name": "stdout",
     "output_type": "stream",
     "text": [
      "My Name Is Ayush Ayush Ayushmaan\n"
     ]
    }
   ],
   "source": [
    "#Replace\n",
    "str=\"My Name Is Ayushmaan Ayushmaan Ayushmaan\"\n",
    "str=str.replace(\"Ayushmaan\",\"Ayush\",2)\n",
    "print(str)"
   ]
  },
  {
   "cell_type": "code",
   "execution_count": 16,
   "id": "dc2bd875",
   "metadata": {},
   "outputs": [
    {
     "name": "stdout",
     "output_type": "stream",
     "text": [
      "0\n"
     ]
    }
   ],
   "source": [
    "#Find\n",
    "str=\"Ayush Ayush Ayush\"\n",
    "index= str.find('Ay')\n",
    "print(index)"
   ]
  },
  {
   "cell_type": "code",
   "execution_count": 7,
   "id": "bd162e42",
   "metadata": {},
   "outputs": [
    {
     "name": "stdout",
     "output_type": "stream",
     "text": [
      "AYUSH\n",
      "ayush\n"
     ]
    }
   ],
   "source": [
    "#Lower & Upper\n",
    "str=\"ayush\"\n",
    "str= str.upper()\n",
    "print(str)\n",
    "str= str.lower()\n",
    "print(str)"
   ]
  },
  {
   "cell_type": "code",
   "execution_count": 9,
   "id": "f3e00d3b",
   "metadata": {},
   "outputs": [
    {
     "data": {
      "text/plain": [
       "True"
      ]
     },
     "execution_count": 9,
     "metadata": {},
     "output_type": "execute_result"
    }
   ],
   "source": [
    "#Startswith\n",
    "str=str=\"My Name Is Ayushmaan\"\n",
    "ans=str.startswith(\"Ay\",11)\n",
    "ans"
   ]
  },
  {
   "cell_type": "code",
   "execution_count": 12,
   "id": "77fbfc28",
   "metadata": {},
   "outputs": [
    {
     "name": "stdout",
     "output_type": "stream",
     "text": [
      "False\n",
      "True\n"
     ]
    }
   ],
   "source": [
    "st=\"My Name Is Ayushmaan\"\n",
    "s='123a'\n",
    "a=st.isalnum()\n",
    "print(a)\n",
    "a=s.isalnum()\n",
    "print(a)"
   ]
  },
  {
   "cell_type": "raw",
   "id": "87fbad74",
   "metadata": {},
   "source": [
    "index()\n",
    "isdigit()\n",
    "istitle()"
   ]
  },
  {
   "cell_type": "markdown",
   "id": "fc933f13",
   "metadata": {},
   "source": [
    "### Replace Character in String"
   ]
  },
  {
   "cell_type": "code",
   "execution_count": 22,
   "id": "6c606d31",
   "metadata": {},
   "outputs": [
    {
     "name": "stdout",
     "output_type": "stream",
     "text": [
      " fdafdavxz\n"
     ]
    },
    {
     "data": {
      "text/plain": [
       "' fdafdavxz'"
      ]
     },
     "execution_count": 22,
     "metadata": {},
     "output_type": "execute_result"
    }
   ],
   "source": [
    "def replace(str,char1,char2):\n",
    "    newStr=\" \"\n",
    "    for char in str:\n",
    "        if char== char1:\n",
    "            newStr+= char2\n",
    "        else:\n",
    "            newStr+= char\n",
    "    return newStr\n",
    "\n",
    "str=\"fsafsavxz\"\n",
    "str=replace(str,'s','d')\n",
    "print(str)\n",
    "str"
   ]
  },
  {
   "cell_type": "markdown",
   "id": "bf69defb",
   "metadata": {},
   "source": [
    "### Count Vowels, Consonants, Digits & special characters in string"
   ]
  },
  {
   "cell_type": "code",
   "execution_count": 2,
   "id": "8a6eefe4",
   "metadata": {},
   "outputs": [
    {
     "name": "stdout",
     "output_type": "stream",
     "text": [
      "3 9 5 5\n"
     ]
    }
   ],
   "source": [
    "def countinstring(str):\n",
    "    v,c,d,s=0,0,0,0\n",
    "    for char in str:\n",
    "        if ((char>='a' and char<='z') or(char>='A' and char<='Z')):\n",
    "            char= char.lower()\n",
    "            if (char=='a' or char=='e' or char=='i' or char=='o' or char=='u'):\n",
    "                v+=1\n",
    "            else:\n",
    "                c+=1\n",
    "            \n",
    "        elif(char>='0' and char<='9'):\n",
    "            d+=1\n",
    "        else:\n",
    "            s+=1\n",
    "    return v,c,d,s\n",
    "str=\"agfcdS eIJCMH!$#%12425\"\n",
    "v,c,d,s= countinstring(str)\n",
    "print(v,c,d,s)"
   ]
  }
 ],
 "metadata": {
  "kernelspec": {
   "display_name": "Python 3 (ipykernel)",
   "language": "python",
   "name": "python3"
  },
  "language_info": {
   "codemirror_mode": {
    "name": "ipython",
    "version": 3
   },
   "file_extension": ".py",
   "mimetype": "text/x-python",
   "name": "python",
   "nbconvert_exporter": "python",
   "pygments_lexer": "ipython3",
   "version": "3.9.7"
  }
 },
 "nbformat": 4,
 "nbformat_minor": 5
}
