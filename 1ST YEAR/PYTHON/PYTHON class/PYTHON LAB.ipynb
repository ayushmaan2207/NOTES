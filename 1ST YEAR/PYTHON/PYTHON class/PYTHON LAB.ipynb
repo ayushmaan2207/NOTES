{
 "cells": [
  {
   "cell_type": "code",
   "execution_count": 14,
   "id": "e52db875",
   "metadata": {},
   "outputs": [
    {
     "name": "stdout",
     "output_type": "stream",
     "text": [
      "15\n",
      "64 8\n"
     ]
    }
   ],
   "source": [
    "n=int(input())\n",
    "s=0\n",
    "c=0\n",
    "i=1\n",
    "while i<= n:\n",
    "    if i%2!=0:\n",
    "        s=s+i\n",
    "        c+=1\n",
    "    i+=1\n",
    "print(s,c)  "
   ]
  },
  {
   "cell_type": "code",
   "execution_count": 12,
   "id": "35c5abbe",
   "metadata": {},
   "outputs": [
    {
     "name": "stdout",
     "output_type": "stream",
     "text": [
      "10\n",
      "1.1416666666666666\n"
     ]
    }
   ],
   "source": [
    "n=int(input())\n",
    "s=0\n",
    "i=2\n",
    "while i<= n:\n",
    "    s=s+(1/i)\n",
    "    i+=2\n",
    "print(s)"
   ]
  },
  {
   "cell_type": "code",
   "execution_count": 17,
   "id": "15124b71",
   "metadata": {},
   "outputs": [
    {
     "name": "stdout",
     "output_type": "stream",
     "text": [
      "306.75\n"
     ]
    }
   ],
   "source": [
    "x=500\n",
    "A=2.0 \n",
    "a=50.0 \n",
    "m=35.5\n",
    "M=1.5\n",
    "P=2.5\n",
    "p=10.0\n",
    "T=1.0\n",
    "t=15.0\n",
    "s=A*a+M*m+P*p+T*t\n",
    "RETURN=x-s\n",
    "print(RETURN)"
   ]
  },
  {
   "cell_type": "code",
   "execution_count": 19,
   "id": "8037a0c3",
   "metadata": {},
   "outputs": [
    {
     "name": "stdout",
     "output_type": "stream",
     "text": [
      "7\n",
      "154.0\n"
     ]
    }
   ],
   "source": [
    "r=int(input())\n",
    "A=(22*(r**2))/7\n",
    "print(A)"
   ]
  },
  {
   "cell_type": "code",
   "execution_count": 20,
   "id": "eef5eaae",
   "metadata": {},
   "outputs": [
    {
     "name": "stdout",
     "output_type": "stream",
     "text": [
      "4\n",
      "5\n",
      "8\n",
      "8\n"
     ]
    }
   ],
   "source": [
    "a=int(input())\n",
    "b=int(input())\n",
    "c=int(input())\n",
    "if a>=b and b>=c:\n",
    "    print(a)\n",
    "elif b>=a and b>=c:\n",
    "    print(b)\n",
    "else:\n",
    "    print(c)"
   ]
  },
  {
   "cell_type": "code",
   "execution_count": 4,
   "id": "8326ebaa",
   "metadata": {},
   "outputs": [
    {
     "name": "stdout",
     "output_type": "stream",
     "text": [
      "1 2 3 4 5\n",
      "['1', '2']\n",
      "['3', '4', '5']\n"
     ]
    }
   ],
   "source": [
    "li=input().split()\n",
    "li1=[]\n",
    "li2=[]\n",
    "for i in range(len(li)//2):\n",
    "    li1.append(li[i])\n",
    "for j in range(len(li)//2,len(li)):\n",
    "    li2.append(li[j])\n",
    "print(li1)\n",
    "print(li2)"
   ]
  },
  {
   "cell_type": "code",
   "execution_count": 7,
   "id": "ec28e135",
   "metadata": {},
   "outputs": [
    {
     "name": "stdout",
     "output_type": "stream",
     "text": [
      "1 2 3\n",
      "[1, 4, 9]\n"
     ]
    }
   ],
   "source": [
    "li=input().split()\n",
    "li1=[]\n",
    "for i in range(len(li)):\n",
    "    li1.append(int(li[i])**2)\n",
    "print(li1)"
   ]
  },
  {
   "cell_type": "code",
   "execution_count": null,
   "id": "18e7455c",
   "metadata": {},
   "outputs": [],
   "source": []
  }
 ],
 "metadata": {
  "kernelspec": {
   "display_name": "Python 3 (ipykernel)",
   "language": "python",
   "name": "python3"
  },
  "language_info": {
   "codemirror_mode": {
    "name": "ipython",
    "version": 3
   },
   "file_extension": ".py",
   "mimetype": "text/x-python",
   "name": "python",
   "nbconvert_exporter": "python",
   "pygments_lexer": "ipython3",
   "version": "3.9.7"
  }
 },
 "nbformat": 4,
 "nbformat_minor": 5
}
