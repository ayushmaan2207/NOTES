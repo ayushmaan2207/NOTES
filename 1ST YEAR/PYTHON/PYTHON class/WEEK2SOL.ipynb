{
 "cells": [
  {
   "cell_type": "markdown",
   "id": "47c9e027",
   "metadata": {},
   "source": [
    "### 1. Write a program that accepts a list from user and print the alternate element of list.  "
   ]
  },
  {
   "cell_type": "code",
   "execution_count": 28,
   "id": "5b1883ce",
   "metadata": {},
   "outputs": [
    {
     "name": "stdout",
     "output_type": "stream",
     "text": [
      "1 2 3 4 5 6\n",
      "[1, 2, 3, 4, 5, 6]\n",
      "1 3 5 "
     ]
    }
   ],
   "source": [
    "li=[int(x) for x in input().split()]\n",
    "print(li)\n",
    "i=0\n",
    "while i <len(li):\n",
    "    print(li[i],end=\" \")\n",
    "    i+=2"
   ]
  },
  {
   "cell_type": "markdown",
   "id": "60af0d6a",
   "metadata": {},
   "source": [
    "### 2. Write a program that accepts a list from user. Your program should reverse the content of list and display it. Do not use reverse() method.  "
   ]
  },
  {
   "cell_type": "code",
   "execution_count": 29,
   "id": "425359fc",
   "metadata": {},
   "outputs": [
    {
     "name": "stdout",
     "output_type": "stream",
     "text": [
      "1 2 3 4 5 6\n"
     ]
    },
    {
     "data": {
      "text/plain": [
       "[6, 5, 4, 3, 2, 1]"
      ]
     },
     "execution_count": 29,
     "metadata": {},
     "output_type": "execute_result"
    }
   ],
   "source": [
    "li=[int(x) for x in input().split()]\n",
    "n=len(li)\n",
    "for i in range(n//2):\n",
    "    li[i],li[n-1-i]=li[n-1-i],li[i]\n",
    "li"
   ]
  },
  {
   "cell_type": "markdown",
   "id": "47239157",
   "metadata": {},
   "source": [
    "### 3. Find and display the largest number of a list without using built-in function max(). Your program should ask the user to input values in list from keyboard.  "
   ]
  },
  {
   "cell_type": "code",
   "execution_count": 30,
   "id": "60d0f9df",
   "metadata": {},
   "outputs": [
    {
     "name": "stdout",
     "output_type": "stream",
     "text": [
      "1 2 3 4 5 6\n",
      "6\n"
     ]
    }
   ],
   "source": [
    "li=[int(x) for x in input().split()]\n",
    "max=0\n",
    "for i in li:\n",
    "    if i>max:\n",
    "        max=i\n",
    "print(max)"
   ]
  },
  {
   "cell_type": "markdown",
   "id": "91b8c27c",
   "metadata": {},
   "source": [
    "### 4. Write a program that rotates the element of a list so that the element at the first index moves to the second index, the element in the second index moves to the third index, etc., and the element in the last index moves to the first index.  "
   ]
  },
  {
   "cell_type": "code",
   "execution_count": 50,
   "id": "c7ccea94",
   "metadata": {},
   "outputs": [
    {
     "name": "stdout",
     "output_type": "stream",
     "text": [
      "1 2 3 4 5 6\n"
     ]
    },
    {
     "data": {
      "text/plain": [
       "[6, 1, 2, 3, 4, 5]"
      ]
     },
     "execution_count": 50,
     "metadata": {},
     "output_type": "execute_result"
    }
   ],
   "source": [
    "li=[int(x) for x in input().split()]\n",
    "n=len(li)\n",
    "a=li[n-1]\n",
    "for i in range(n-1,0,-1):\n",
    "    li[i]=li[i-1]\n",
    "li[0]=a\n",
    "li"
   ]
  },
  {
   "cell_type": "markdown",
   "id": "c84f5ba1",
   "metadata": {},
   "source": [
    "### 5. Write a program that input a string and ask user to delete a given word from a string.  "
   ]
  },
  {
   "cell_type": "code",
   "execution_count": 93,
   "id": "605958fd",
   "metadata": {},
   "outputs": [
    {
     "name": "stdout",
     "output_type": "stream",
     "text": [
      "roses are red\n",
      "r\n",
      "oses ae ed"
     ]
    }
   ],
   "source": [
    "s=input()\n",
    "li=[[x for x in s] for j in s.split()]\n",
    "a=[]\n",
    "x = input()\n",
    "for i in li[0]:\n",
    "    if i==x:\n",
    "        pass\n",
    "    else:\n",
    "        a.append(i)\n",
    "for i in a:\n",
    "    print(i,end=\"\")"
   ]
  },
  {
   "cell_type": "markdown",
   "id": "28ecdba5",
   "metadata": {},
   "source": [
    "### 6. Write a program that reads a string from the user containing a date in the form mm/dd/yyyy. It should print the date in the form March 12, 2021.  "
   ]
  },
  {
   "cell_type": "code",
   "execution_count": 56,
   "id": "5c80e066",
   "metadata": {},
   "outputs": [
    {
     "name": "stdout",
     "output_type": "stream",
     "text": [
      "07/22/2004\n",
      "jul 22,2004\n"
     ]
    }
   ],
   "source": [
    "li=[\"jan\",\"feb\",'mar','apr','may','jun','jul','aug','sep','oct','nov','dec']\n",
    "a=[int(x) for x in input().split('/')]\n",
    "print(li[a[0]-1],end=' ')\n",
    "print(a[1],end=\",\")\n",
    "print(a[2])"
   ]
  },
  {
   "cell_type": "markdown",
   "id": "41269718",
   "metadata": {},
   "source": [
    "### 7. Write a program with a function that accepts a string from keyboard and create a new string after converting character of each word capitalized. For instance, if the sentence is \"stop and smell the roses.\" the output should be \"Stop And Smell "
   ]
  },
  {
   "cell_type": "code",
   "execution_count": 1,
   "id": "75b222c3",
   "metadata": {},
   "outputs": [
    {
     "name": "stdout",
     "output_type": "stream",
     "text": [
      "roses are red\n",
      "Roses Are Red "
     ]
    }
   ],
   "source": [
    "str=input()\n",
    "li=str.split()\n",
    "for i in range(len(li)):\n",
    "    z=[]\n",
    "    for j in range(len(li[i])):\n",
    "        if j==0:\n",
    "            a=li[i][j].upper()\n",
    "            z.append(a)\n",
    "        else:\n",
    "            z.append(li[i][j])\n",
    "    for ele in z:\n",
    "        print(ele,end=\"\")\n",
    "    print(end=\" \")"
   ]
  },
  {
   "cell_type": "code",
   "execution_count": 17,
   "id": "069ee32c",
   "metadata": {},
   "outputs": [
    {
     "name": "stdout",
     "output_type": "stream",
     "text": [
      "roses are red\n",
      "Roses Are Red "
     ]
    }
   ],
   "source": [
    "str=input()\n",
    "li=str.split()\n",
    "ans=[]\n",
    "for i in range(len(li)):\n",
    "    a=li[i].capitalize()\n",
    "    ans.append(a)\n",
    "for ele in ans:\n",
    "    print(ele,end=\" \")"
   ]
  }
 ],
 "metadata": {
  "kernelspec": {
   "display_name": "Python 3 (ipykernel)",
   "language": "python",
   "name": "python3"
  },
  "language_info": {
   "codemirror_mode": {
    "name": "ipython",
    "version": 3
   },
   "file_extension": ".py",
   "mimetype": "text/x-python",
   "name": "python",
   "nbconvert_exporter": "python",
   "pygments_lexer": "ipython3",
   "version": "3.9.7"
  }
 },
 "nbformat": 4,
 "nbformat_minor": 5
}
