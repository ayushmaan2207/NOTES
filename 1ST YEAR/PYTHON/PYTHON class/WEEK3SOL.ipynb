{
 "cells": [
  {
   "cell_type": "markdown",
   "id": "c3ea8539",
   "metadata": {},
   "source": [
    "### 1.\tWrite a program to add two matrices of size n x m."
   ]
  },
  {
   "cell_type": "code",
   "execution_count": 2,
   "id": "c7a2c59a",
   "metadata": {},
   "outputs": [
    {
     "ename": "ValueError",
     "evalue": "invalid literal for int() with base 10: ''",
     "output_type": "error",
     "traceback": [
      "\u001b[1;31m---------------------------------------------------------------------------\u001b[0m",
      "\u001b[1;31mValueError\u001b[0m                                Traceback (most recent call last)",
      "\u001b[1;32m~\\AppData\\Local\\Temp/ipykernel_9108/3435197616.py\u001b[0m in \u001b[0;36m<module>\u001b[1;34m\u001b[0m\n\u001b[1;32m----> 1\u001b[1;33m \u001b[0mn\u001b[0m\u001b[1;33m=\u001b[0m\u001b[0mint\u001b[0m\u001b[1;33m(\u001b[0m\u001b[0minput\u001b[0m\u001b[1;33m(\u001b[0m\u001b[1;33m)\u001b[0m\u001b[1;33m)\u001b[0m\u001b[1;33m\u001b[0m\u001b[1;33m\u001b[0m\u001b[0m\n\u001b[0m\u001b[0;32m      2\u001b[0m \u001b[0mli1\u001b[0m\u001b[1;33m=\u001b[0m\u001b[1;33m[\u001b[0m\u001b[1;33m[\u001b[0m\u001b[0mint\u001b[0m\u001b[1;33m(\u001b[0m\u001b[0mx\u001b[0m\u001b[1;33m)\u001b[0m \u001b[1;32mfor\u001b[0m \u001b[0mx\u001b[0m \u001b[1;32min\u001b[0m \u001b[0minput\u001b[0m\u001b[1;33m(\u001b[0m\u001b[1;33m)\u001b[0m\u001b[1;33m.\u001b[0m\u001b[0msplit\u001b[0m\u001b[1;33m(\u001b[0m\u001b[1;33m)\u001b[0m\u001b[1;33m]\u001b[0m \u001b[1;32mfor\u001b[0m \u001b[0mi\u001b[0m \u001b[1;32min\u001b[0m \u001b[0mrange\u001b[0m\u001b[1;33m(\u001b[0m\u001b[0mn\u001b[0m\u001b[1;33m)\u001b[0m\u001b[1;33m]\u001b[0m\u001b[1;33m\u001b[0m\u001b[1;33m\u001b[0m\u001b[0m\n\u001b[0;32m      3\u001b[0m \u001b[0mprint\u001b[0m\u001b[1;33m(\u001b[0m\u001b[1;33m)\u001b[0m\u001b[1;33m\u001b[0m\u001b[1;33m\u001b[0m\u001b[0m\n\u001b[0;32m      4\u001b[0m \u001b[0mli2\u001b[0m\u001b[1;33m=\u001b[0m\u001b[1;33m[\u001b[0m\u001b[1;33m[\u001b[0m\u001b[0mint\u001b[0m\u001b[1;33m(\u001b[0m\u001b[0mx\u001b[0m\u001b[1;33m)\u001b[0m \u001b[1;32mfor\u001b[0m \u001b[0mx\u001b[0m \u001b[1;32min\u001b[0m \u001b[0minput\u001b[0m\u001b[1;33m(\u001b[0m\u001b[1;33m)\u001b[0m\u001b[1;33m.\u001b[0m\u001b[0msplit\u001b[0m\u001b[1;33m(\u001b[0m\u001b[1;33m)\u001b[0m\u001b[1;33m]\u001b[0m \u001b[1;32mfor\u001b[0m \u001b[0mi\u001b[0m \u001b[1;32min\u001b[0m \u001b[0mrange\u001b[0m\u001b[1;33m(\u001b[0m\u001b[0mn\u001b[0m\u001b[1;33m)\u001b[0m\u001b[1;33m]\u001b[0m\u001b[1;33m\u001b[0m\u001b[1;33m\u001b[0m\u001b[0m\n\u001b[0;32m      5\u001b[0m \u001b[0mli_ans\u001b[0m\u001b[1;33m=\u001b[0m\u001b[0mli1\u001b[0m\u001b[1;33m[\u001b[0m\u001b[1;33m:\u001b[0m\u001b[1;33m]\u001b[0m\u001b[1;33m[\u001b[0m\u001b[1;33m:\u001b[0m\u001b[1;33m]\u001b[0m\u001b[1;33m\u001b[0m\u001b[1;33m\u001b[0m\u001b[0m\n",
      "\u001b[1;31mValueError\u001b[0m: invalid literal for int() with base 10: ''"
     ]
    }
   ],
   "source": [
    "n=int(input())\n",
    "li1=[[int(x) for x in input().split()] for i in range(n)]\n",
    "print()\n",
    "li2=[[int(x) for x in input().split()] for i in range(n)]\n",
    "li_ans=li1[:][:]\n",
    "for i in range(n):\n",
    "    for j in range(n):\n",
    "        li_ans[i][j]=(li1[i][j]+li2[i][j])\n",
    "print()\n",
    "for i in range(n):\n",
    "    for j in range(n):\n",
    "        print(li_ans[i][j],end=\" \")\n",
    "    print()"
   ]
  },
  {
   "cell_type": "markdown",
   "id": "54ef361f",
   "metadata": {},
   "source": [
    "### 2.\tWrite a program to multiply two matrices."
   ]
  },
  {
   "cell_type": "code",
   "execution_count": 5,
   "id": "b306bb13",
   "metadata": {
    "scrolled": true
   },
   "outputs": [
    {
     "name": "stdout",
     "output_type": "stream",
     "text": [
      "[[2, 2], [2, 2]]\n",
      "[[1, 1], [1, 1]]\n",
      "[[0, 0], [0, 0]]\n",
      "\n",
      "[4, 4]\n",
      "[4, 4]\n"
     ]
    }
   ],
   "source": [
    "n = int(input())\n",
    "li1 = [[int(x) for x in input().split()] for i in range(n)]\n",
    "print(li1)\n",
    "\n",
    "li2 = [[int(x) for x in input().split()] for i in range(n)]\n",
    "print(li2)\n",
    "\n",
    "li_ans = [[0 for x in range(n)] for i in range(n)]\n",
    "print(li_ans)\n",
    "\n",
    "# Matrix multiplication\n",
    "for i in range(len(li1)):\n",
    "    for j in range(len(li2[0])):\n",
    "        for k in range(len(li2)):\n",
    "            li_ans[i][j] += li1[i][k] * li2[k][j]\n",
    "\n",
    "print()\n",
    "\n",
    "# Printing the result\n",
    "for i in li_ans:\n",
    "    print(i)\n"
   ]
  },
  {
   "cell_type": "markdown",
   "id": "0ede117e",
   "metadata": {},
   "source": [
    "### 3.\tFind the sum of each row of matrix of size m x n. For example, for the following matrix output will be like this:\n",
    "    2 11  7 12\n",
    "    5  2  9 15\n",
    "    8  3 10 42\n",
    "     Sum of row 1 = 32\n",
    "     Sum of row 2 = 31\n",
    "     Sum of row 3 = 63\n"
   ]
  },
  {
   "cell_type": "code",
   "execution_count": 22,
   "id": "2da7c901",
   "metadata": {},
   "outputs": [
    {
     "name": "stdout",
     "output_type": "stream",
     "text": [
      "3\n",
      "7 8 9\n",
      "4 5 6\n",
      "1 2 3\n",
      "sum of row 1 24\n",
      "sum of row 2 15\n",
      "sum of row 3 6\n"
     ]
    }
   ],
   "source": [
    "n=int(input())\n",
    "li=[[int(x) for x in input().split()] for i in range(n)]\n",
    "\n",
    "for i in range(n):\n",
    "    sum=0\n",
    "    for j in range(n):\n",
    "        sum+=li[i][j]\n",
    "    print('sum of row {}'.format(i+1),sum)"
   ]
  },
  {
   "cell_type": "markdown",
   "id": "74d62a5b",
   "metadata": {},
   "source": [
    "### 4.\tGiven an integer n, create a matrix of size (n×n) and populate it as follows, with spaces between each character:\n",
    "    •\tThe positions on the minor diagonal (from the upper right to the \n",
    "         lower left corner) receive 1.\n",
    "    •\tThe positions above this diagonal recieve 0.\n",
    "    •\tThe positions below the diagonal receive 2.\n",
    "    Print the elements of the resulting array as given below:\n",
    "    For n=4\n",
    "    0 0 0 1\n",
    "    0 0 1 2\n",
    "    0 1 2 2\n",
    "    1 2 2 2\n",
    "\n"
   ]
  },
  {
   "cell_type": "code",
   "execution_count": 26,
   "id": "ded5ce24",
   "metadata": {},
   "outputs": [
    {
     "name": "stdout",
     "output_type": "stream",
     "text": [
      "5\n",
      "0 0 0 0 1 \n",
      "0 0 0 1 2 \n",
      "0 0 1 2 2 \n",
      "0 1 2 2 2 \n",
      "1 2 2 2 2 \n"
     ]
    }
   ],
   "source": [
    "n=int(input())\n",
    "li=[[n for j in range(n)] for i in range(n)]\n",
    "for i in range(n):\n",
    "    for j in range(n):\n",
    "        if j<=n-i-2:\n",
    "            li[i][j]=0\n",
    "        elif j==n-i-1:\n",
    "            li[i][j]=1\n",
    "        else:\n",
    "            li[i][j]=2\n",
    "for i in range(n):\n",
    "    for j in range(n):\n",
    "        print(li[i][j],end=\" \")\n",
    "    print()"
   ]
  },
  {
   "cell_type": "markdown",
   "id": "63ce0588",
   "metadata": {},
   "source": [
    "### 5.\tSwap the columns: Given two positive integers m and n, m lines of n elements, giving an m×n matrix A, followed by two non-negative integers i and j less than n, swap columns i and j of A and print the result.\n",
    "Write a function swap_columns(a, i, j) and call it to exchange the columns.\n"
   ]
  },
  {
   "cell_type": "code",
   "execution_count": 60,
   "id": "4ba501a6",
   "metadata": {},
   "outputs": [],
   "source": [
    "def exchange_the_columns(a,i,j):  \n",
    "    n=int(input())\n",
    "    a=[[int(y) for y in input().split()] for x in range(n)]\n",
    "    print()\n",
    "    b=a[:][:]\n",
    "    for x in range(n):\n",
    "        b[x][i],b[x][j]=b[x][j],b[x][i]\n",
    "    print()\n",
    "    for x in range(n):\n",
    "        for y in range(n):\n",
    "            print(b[x][y],end=\" \")\n",
    "        print()"
   ]
  },
  {
   "cell_type": "code",
   "execution_count": 61,
   "id": "1d0f1a45",
   "metadata": {},
   "outputs": [
    {
     "name": "stdout",
     "output_type": "stream",
     "text": [
      "4\n",
      "1 2 3 4\n",
      "4 5 6 7\n",
      "7 8 9 1\n",
      "1 2 3 4\n",
      "\n",
      "\n",
      "3 2 1 4 \n",
      "6 5 4 7 \n",
      "9 8 7 1 \n",
      "3 2 1 4 \n"
     ]
    }
   ],
   "source": [
    "exchange_the_columns(a,0,2)"
   ]
  },
  {
   "cell_type": "markdown",
   "id": "b894cd4c",
   "metadata": {},
   "source": [
    "### 6.\tWrite a Python program that accepts a string from user. Your program should create and display a new string where the first and last characters have been exchanged. For example if the user enters the string 'HELLO' then new string would be 'OELLH'."
   ]
  },
  {
   "cell_type": "code",
   "execution_count": 78,
   "id": "3cc8f538",
   "metadata": {},
   "outputs": [
    {
     "name": "stdout",
     "output_type": "stream",
     "text": [
      "PYTHON\n",
      "NYTHOP\n"
     ]
    }
   ],
   "source": [
    "n=str(input())\n",
    "a=''\n",
    "a+=n[-1]\n",
    "a+=n[1:-1]\n",
    "a+=n[0]\n",
    "\n",
    "print(a)"
   ]
  },
  {
   "cell_type": "markdown",
   "id": "25c871aa",
   "metadata": {},
   "source": [
    "### 7.\tWrite a Python program that accepts a string from user. Your program should create a new string by shifting one position to left. For example if the user enters the string 'examination 2021' then new string would be 'xamination 2021e'."
   ]
  },
  {
   "cell_type": "code",
   "execution_count": 7,
   "id": "bf3794a4",
   "metadata": {},
   "outputs": [
    {
     "name": "stdout",
     "output_type": "stream",
     "text": [
      "hello world\n",
      "ello worldh\n"
     ]
    }
   ],
   "source": [
    "n=str(input())\n",
    "a=\"\"\n",
    "for i in range(1,len(n)):\n",
    "    a+=n[i]\n",
    "a+=n[0]\n",
    "print(a)"
   ]
  },
  {
   "cell_type": "markdown",
   "id": "7a16f10b",
   "metadata": {},
   "source": [
    "### 8.\tWrite a Python program that accepts a string from user. Your program should create a new string in reverse of first string and display it.\n",
    "For example if the user enters the string 'EXAM' then new string would be 'MAXE'\n"
   ]
  },
  {
   "cell_type": "code",
   "execution_count": 5,
   "id": "362ce6b0",
   "metadata": {},
   "outputs": [
    {
     "name": "stdout",
     "output_type": "stream",
     "text": [
      "CODING\n",
      "GNIDOC\n"
     ]
    }
   ],
   "source": [
    "a=str(input())\n",
    "print(a[-1::-1])"
   ]
  },
  {
   "cell_type": "markdown",
   "id": "deccd7ed",
   "metadata": {},
   "source": [
    "### 9.\tWrite a program that display following output:\n",
    "    SHIFT\n",
    "    HIFTS\n",
    "    IFTSH\n",
    "    FTSHI\n",
    "    TSHIF\n",
    "    SHIFT  \n"
   ]
  },
  {
   "cell_type": "code",
   "execution_count": 11,
   "id": "dddd2d70",
   "metadata": {},
   "outputs": [
    {
     "name": "stdout",
     "output_type": "stream",
     "text": [
      "WORLD\n",
      "WORLD\n",
      "ORLDW\n",
      "RLDWO\n",
      "LDWOR\n",
      "DWORL\n"
     ]
    }
   ],
   "source": [
    "a=str(input())\n",
    "for i in range(0,len(a)):\n",
    "    b=a[i:]+a[:i]\n",
    "    print(b)"
   ]
  },
  {
   "cell_type": "markdown",
   "id": "826a8c46",
   "metadata": {},
   "source": [
    "### 10.\tA palindrome is a string that reads the same backward as forward. For example, the words dad, madam and radar are all palindromes. Write a programs that determines whether the string is a palindrome. "
   ]
  },
  {
   "cell_type": "code",
   "execution_count": 4,
   "id": "cf18578e",
   "metadata": {},
   "outputs": [
    {
     "name": "stdout",
     "output_type": "stream",
     "text": [
      "qwertyu\n",
      "not palindrome\n"
     ]
    }
   ],
   "source": [
    "a=str(input())\n",
    "b=a[-1::-1]\n",
    "if a==b:\n",
    "    print('palindrome')\n",
    "else:\n",
    "    print('not palindrome')"
   ]
  }
 ],
 "metadata": {
  "kernelspec": {
   "display_name": "Python 3 (ipykernel)",
   "language": "python",
   "name": "python3"
  },
  "language_info": {
   "codemirror_mode": {
    "name": "ipython",
    "version": 3
   },
   "file_extension": ".py",
   "mimetype": "text/x-python",
   "name": "python",
   "nbconvert_exporter": "python",
   "pygments_lexer": "ipython3",
   "version": "3.9.7"
  }
 },
 "nbformat": 4,
 "nbformat_minor": 5
}
