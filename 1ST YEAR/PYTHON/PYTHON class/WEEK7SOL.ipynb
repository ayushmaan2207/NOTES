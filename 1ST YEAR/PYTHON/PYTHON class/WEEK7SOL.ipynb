{
 "cells": [
  {
   "cell_type": "code",
   "execution_count": 8,
   "id": "64416cca",
   "metadata": {
    "scrolled": true
   },
   "outputs": [
    {
     "name": "stdout",
     "output_type": "stream",
     "text": [
      "enter to check: White\n",
      "true\n"
     ]
    }
   ],
   "source": [
    "tup3=(('Red', 'White', 'Blue'),('Green', 'Pink' , 'Purple'), ('Orange', 'Yellow', 'Lime'))\n",
    "a=0\n",
    "chk=input(\"enter to check: \")\n",
    "for i in tup3:\n",
    "    if chk in i:\n",
    "        a=1\n",
    "if a==1:\n",
    "    print(\"true\")\n",
    "else:\n",
    "    print(\"false\")"
   ]
  },
  {
   "cell_type": "code",
   "execution_count": 39,
   "id": "ef26595d",
   "metadata": {},
   "outputs": [
    {
     "name": "stdout",
     "output_type": "stream",
     "text": [
      "Enter a string: AEIOUaeiou\n",
      "Number of vowels in a string: 10\n"
     ]
    }
   ],
   "source": [
    "a=str(input(\"Enter a string: \"))\n",
    "c=0\n",
    "for char in a:\n",
    "        if char in 'aeiouAEIOU':\n",
    "            c+=1\n",
    "print(\"Number of vowels in a string:\",c)"
   ]
  },
  {
   "cell_type": "code",
   "execution_count": 31,
   "id": "6bf8d36c",
   "metadata": {},
   "outputs": [
    {
     "name": "stdout",
     "output_type": "stream",
     "text": [
      "Enter a string: asdfg\n",
      "Enter a string: asdcm\n",
      "Common characters: ['a', 's', 'd']\n"
     ]
    }
   ],
   "source": [
    "a=str(input(\"Enter string 1: \"))\n",
    "b=str(input(\"Enter string 2: \"))\n",
    "c=[]\n",
    "for ele in a:\n",
    "    if ele in b:\n",
    "        c.append(ele)\n",
    "print(\"Common characters:\",c)"
   ]
  },
  {
   "cell_type": "code",
   "execution_count": 30,
   "id": "2b1ea8bb",
   "metadata": {
    "scrolled": true
   },
   "outputs": [
    {
     "name": "stdout",
     "output_type": "stream",
     "text": [
      "Enter a string: asdf 452 sdSDFG\n",
      "The no. of uppercase letters in the string is  4\n",
      "The no. of lowercase letters in the string is  6\n",
      "The no. of digits in the string is  3\n",
      "The no. of whitespace characters in the string is  2\n"
     ]
    }
   ],
   "source": [
    "a=str(input(\"Enter a string: \"))\n",
    "u,l,d,s=0,0,0,0\n",
    "for char in a:\n",
    "    if (char>='a' and char<='z'):\n",
    "        l+=1\n",
    "    elif(char>='A' and char<='Z'):  \n",
    "        u+=1\n",
    "    elif(char>='0' and char<='9'):\n",
    "        d+=1\n",
    "    else:\n",
    "        s+=1\n",
    "print(\"The no. of uppercase letters in the string is \",u)\n",
    "print(\"The no. of lowercase letters in the string is \",l)\n",
    "print(\"The no. of digits in the string is \",d)\n",
    "print(\"The no. of whitespace characters in the string is \",s)"
   ]
  },
  {
   "cell_type": "code",
   "execution_count": 24,
   "id": "f95a981c",
   "metadata": {},
   "outputs": [
    {
     "name": "stdout",
     "output_type": "stream",
     "text": [
      "the initial list is:  [(), (), ('',), ('a', 'b'), ('a', 'b', 'c'), 'd']\n",
      "list after removal:  [('',), ('a', 'b'), ('a', 'b', 'c'), 'd']\n"
     ]
    }
   ],
   "source": [
    "l1=[(), (), ('',), ('a', 'b'), ('a', 'b', 'c'), ('d')]\n",
    "print(\"the initial list is: \",l1)\n",
    "l2=[]\n",
    "for i in l1:\n",
    "    if len(i)!=0:\n",
    "        l2.append(i)\n",
    "print(\"list after removal: \",l2)"
   ]
  },
  {
   "cell_type": "code",
   "execution_count": 26,
   "id": "e2d1e587",
   "metadata": {},
   "outputs": [
    {
     "name": "stdout",
     "output_type": "stream",
     "text": [
      "enter size of list 1: 2\n",
      "enter: 1\n",
      "enter: 2\n",
      "enter size of list 2: 3\n",
      "enter: 2\n",
      "enter: 5\n",
      "enter: 6\n",
      "Difference is  [1, 5, 6]\n"
     ]
    }
   ],
   "source": [
    "l1=[]\n",
    "n=int(input(\"enter size of list 1: \"))\n",
    "for i in range(0,n):\n",
    "    el=int(input(\"enter: \"))\n",
    "    l1.append(el)\n",
    "    \n",
    "l2=[]\n",
    "m=int(input(\"enter size of list 2: \"))\n",
    "for i in range(0,m):\n",
    "    ele=int(input(\"enter: \"))\n",
    "    l2.append(ele)\n",
    "    \n",
    "diffl1tol2=list(set(l1)-set(l2))\n",
    "diffl2tol1=list(set(l2)-set(l1))\n",
    "totdiff=diffl1tol2+diffl2tol1\n",
    "print(\"Difference is \",totdiff)"
   ]
  },
  {
   "cell_type": "markdown",
   "id": "4453c311",
   "metadata": {},
   "source": [
    "### 1.Search for 40 using linear and binary search \n"
   ]
  },
  {
   "cell_type": "code",
   "execution_count": 2,
   "id": "7c7d2d8b",
   "metadata": {},
   "outputs": [
    {
     "name": "stdout",
     "output_type": "stream",
     "text": [
      "40\n",
      "4\n"
     ]
    }
   ],
   "source": [
    "arr=[2,3,10,30,40,50,70]\n",
    "n=int(input())\n",
    "for i in range(len(arr)):\n",
    "    if arr[i]==n:\n",
    "        print(i)   "
   ]
  },
  {
   "cell_type": "code",
   "execution_count": 3,
   "id": "e253de73",
   "metadata": {},
   "outputs": [
    {
     "name": "stdout",
     "output_type": "stream",
     "text": [
      "Enter the number of rows: 3\n",
      "Enter the number of columns: 3\n",
      "Enter the element at row 1, column 1: 1\n",
      "Enter the element at row 1, column 2: 2\n",
      "Enter the element at row 1, column 3: 3\n",
      "Enter the element at row 2, column 1: 4\n",
      "Enter the element at row 2, column 2: 5\n",
      "Enter the element at row 2, column 3: 6\n",
      "Enter the element at row 3, column 1: 7\n",
      "Enter the element at row 3, column 2: 8\n",
      "Enter the element at row 3, column 3: 9\n",
      "Sum of row 1 = 6\n",
      "Sum of row 2 = 15\n",
      "Sum of row 3 = 24\n"
     ]
    }
   ],
   "source": [
    "m = int(input(\"Enter the number of rows: \"))\n",
    "n = int(input(\"Enter the number of columns: \"))\n",
    "\n",
    "matrix = []\n",
    "\n",
    "for i in range(m):\n",
    "    row = []\n",
    "    for j in range(n):\n",
    "        element = int(input(f\"Enter the element at row {i + 1}, column {j + 1}: \"))\n",
    "        row.append(element)\n",
    "    matrix.append(row)\n",
    "\n",
    "for i in range(m):\n",
    "    row_sum = 0\n",
    "    for j in range(n):\n",
    "        row_sum += matrix[i][j]\n",
    "    print(f\"Sum of row {i + 1} = {row_sum}\")\n"
   ]
  },
  {
   "cell_type": "code",
   "execution_count": 95,
   "id": "c9bb26ca",
   "metadata": {},
   "outputs": [],
   "source": [
    "def binary_search(arr,ele):\n",
    "    l=0\n",
    "    u=len(arr)-1\n",
    "    \n",
    "    while l<=u:\n",
    "        m=(l+u)//2\n",
    "        if ele == arr[m]:\n",
    "            print(m)\n",
    "            break\n",
    "        elif ele<arr[m]:\n",
    "            u=m-1\n",
    "        else:\n",
    "            l=m+1\n",
    "    else:\n",
    "        print(-1)"
   ]
  },
  {
   "cell_type": "code",
   "execution_count": 96,
   "id": "fd83f622",
   "metadata": {},
   "outputs": [
    {
     "name": "stdout",
     "output_type": "stream",
     "text": [
      "40\n",
      "4\n"
     ]
    }
   ],
   "source": [
    "arr=[2,3,10,30,40,50,70]\n",
    "n=int(input())\n",
    "binary_search(arr,n)"
   ]
  },
  {
   "cell_type": "markdown",
   "id": "575862b7",
   "metadata": {},
   "source": [
    "### 2.Search for   30  using   binary search and print all occurrences . \n"
   ]
  },
  {
   "cell_type": "code",
   "execution_count": 45,
   "id": "1a09298f",
   "metadata": {},
   "outputs": [
    {
     "name": "stdout",
     "output_type": "stream",
     "text": [
      "[7, 10, 10, 12, 30, 30, 40]\n"
     ]
    }
   ],
   "source": [
    "a=[12,30,10,30,40,10,7]\n",
    "for i in range(len(a)):\n",
    "        for j in range(i+1,len(a)):\n",
    "            if a[i]>a[j]:\n",
    "                a[i],a[j]=a[j],a[i]\n",
    "print(a)"
   ]
  },
  {
   "cell_type": "code",
   "execution_count": 86,
   "id": "4098422f",
   "metadata": {},
   "outputs": [
    {
     "name": "stdout",
     "output_type": "stream",
     "text": [
      "30\n",
      "[7, 10, 10, 12, 30, 30, 40]\n",
      "4\n",
      "5\n",
      "5\n"
     ]
    }
   ],
   "source": [
    "n=int(input())\n",
    "print(a)\n",
    "l=0\n",
    "u=len(a)-1\n",
    "while l<u:\n",
    "    m=(l+u)//2\n",
    "    if a[m]>n:\n",
    "        u=m\n",
    "    elif a[m]<n:\n",
    "        l=m\n",
    "    elif a[m]==n:\n",
    "        print(m)\n",
    "        l=l+1\n",
    "        "
   ]
  },
  {
   "cell_type": "markdown",
   "id": "9639a030",
   "metadata": {},
   "source": [
    "### 3.Given a sorted (in ascending order) integer list  listsort of n elements and a target value, write a function to search target in listsort. If target exists, then return its index, otherwise return -1.\n"
   ]
  },
  {
   "cell_type": "code",
   "execution_count": 81,
   "id": "a494dc97",
   "metadata": {},
   "outputs": [],
   "source": [
    "def binary_search(arr,ele):\n",
    "    l=0\n",
    "    u=len(arr)-1\n",
    "    \n",
    "    while l<=u:\n",
    "        m=(l+u)//2\n",
    "        if ele == arr[m]:\n",
    "            print(m)\n",
    "            break\n",
    "        elif ele<arr[m]:\n",
    "            u=m-1\n",
    "        else:\n",
    "            l=m+1\n",
    "    else:\n",
    "        print(-1)\n",
    "    "
   ]
  },
  {
   "cell_type": "code",
   "execution_count": 82,
   "id": "5718fb22",
   "metadata": {},
   "outputs": [
    {
     "name": "stdout",
     "output_type": "stream",
     "text": [
      "4\n"
     ]
    }
   ],
   "source": [
    "listsort = [-1,0,3,5,9,12]\n",
    "target = 9\n",
    "binary_search(listsort,target)"
   ]
  }
 ],
 "metadata": {
  "kernelspec": {
   "display_name": "Python 3 (ipykernel)",
   "language": "python",
   "name": "python3"
  },
  "language_info": {
   "codemirror_mode": {
    "name": "ipython",
    "version": 3
   },
   "file_extension": ".py",
   "mimetype": "text/x-python",
   "name": "python",
   "nbconvert_exporter": "python",
   "pygments_lexer": "ipython3",
   "version": "3.9.7"
  }
 },
 "nbformat": 4,
 "nbformat_minor": 5
}
