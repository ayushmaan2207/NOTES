{
 "cells": [
  {
   "cell_type": "markdown",
   "id": "6444b03b",
   "metadata": {},
   "source": [
    "# ASSIGNMENT-2"
   ]
  },
  {
   "cell_type": "markdown",
   "id": "044eb8ff",
   "metadata": {},
   "source": [
    "### 1. Print multiplication table of  a number n  using recursion."
   ]
  },
  {
   "cell_type": "code",
   "execution_count": 6,
   "id": "63dfccdf",
   "metadata": {},
   "outputs": [
    {
     "name": "stdout",
     "output_type": "stream",
     "text": [
      "no. is:5\n",
      "5*1= 5\n",
      "5*2= 10\n",
      "5*3= 15\n",
      "5*4= 20\n",
      "5*5= 25\n",
      "5*6= 30\n",
      "5*7= 35\n",
      "5*8= 40\n",
      "5*9= 45\n",
      "5*10= 50\n"
     ]
    }
   ],
   "source": [
    "i=int(input('no. is:'))\n",
    "a=1\n",
    "while a<=10:\n",
    "    print('{}*{}='.format(i,a),i*a)\n",
    "    a+=1"
   ]
  },
  {
   "cell_type": "markdown",
   "id": "6996e7b8",
   "metadata": {},
   "source": [
    "### 2.  Write a function to check if a number is even or not."
   ]
  },
  {
   "cell_type": "code",
   "execution_count": 8,
   "id": "322c181b",
   "metadata": {},
   "outputs": [
    {
     "name": "stdout",
     "output_type": "stream",
     "text": [
      "no.=459\n",
      "459 is odd no.\n"
     ]
    }
   ],
   "source": [
    "i=int(input('no.='))\n",
    "if i%2==0:\n",
    "    print('{} is even no.'.format(i))\n",
    "else:\n",
    "    print('{} is odd no.'.format(i))"
   ]
  },
  {
   "cell_type": "markdown",
   "id": "8ff345a6",
   "metadata": {},
   "source": [
    "### 3.  Write a function to check if a number is prime or not."
   ]
  },
  {
   "cell_type": "code",
   "execution_count": 16,
   "id": "47c46ca2",
   "metadata": {},
   "outputs": [
    {
     "name": "stdout",
     "output_type": "stream",
     "text": [
      "13\n",
      "13 is a prime no.\n"
     ]
    }
   ],
   "source": [
    "i=int(input())\n",
    "a=2\n",
    "flage=False\n",
    "while a<i:\n",
    "    if i%a ==0:\n",
    "        flag=True\n",
    "    a+=1\n",
    "if flag:\n",
    "    print('{} is not a prime no.'.format(i))\n",
    "elif not(flag):\n",
    "    print('{} is a prime no.'.format(i))"
   ]
  },
  {
   "cell_type": "markdown",
   "id": "0679ecc4",
   "metadata": {},
   "source": [
    "### 4.  Write a program in Python to reverse a word."
   ]
  },
  {
   "cell_type": "code",
   "execution_count": 18,
   "id": "7fa78971",
   "metadata": {},
   "outputs": [
    {
     "name": "stdout",
     "output_type": "stream",
     "text": [
      "CHITKARA\n",
      "reverse of the given word: ARAKTIHC\n"
     ]
    }
   ],
   "source": [
    "a=str(input())\n",
    "print('reverse of the given word:',a[::-1])"
   ]
  },
  {
   "cell_type": "markdown",
   "id": "101c7fb0",
   "metadata": {},
   "source": [
    "### 5.  Write a program to filter even and odd number from a list."
   ]
  },
  {
   "cell_type": "code",
   "execution_count": 33,
   "id": "5ccfaf5d",
   "metadata": {},
   "outputs": [
    {
     "name": "stdout",
     "output_type": "stream",
     "text": [
      "Even List:  [20, 12, 2]\n",
      "Odd List:  [43, 53, 53, 5, 3]\n"
     ]
    }
   ],
   "source": [
    "a= [43, 20, 53, 12, 53, 5, 3, 2]\n",
    "\n",
    "even = []\n",
    "odd = []\n",
    "\n",
    "for i in a:\n",
    "    if(i % 2 == 0):\n",
    "        even.append(i)\n",
    "    else:\n",
    "        odd.append(i)\n",
    "        \n",
    "print(\"Even List: \",even)\n",
    "print(\"Odd List: \",odd)"
   ]
  },
  {
   "cell_type": "markdown",
   "id": "095cba63",
   "metadata": {},
   "source": [
    "### 6.  First, def a function called distance_from_zero, with one argument (choose any argument name you like). If the type of the argument is either int or float, the function should return the absolute value of the function input. Otherwise, the function should return \"Nope\". Check if it works calling the function with -6.8 and \"Hello\"."
   ]
  },
  {
   "cell_type": "code",
   "execution_count": 25,
   "id": "4d740ba3",
   "metadata": {},
   "outputs": [
    {
     "name": "stdout",
     "output_type": "stream",
     "text": [
      "123\n"
     ]
    }
   ],
   "source": [
    "distance_from_zero=123\n",
    "if type(distance_from_zero) ==int or type(distance_from_zero) == float:\n",
    "    print(distance_from_zero)\n",
    "else:\n",
    "    print(\"Nope\")"
   ]
  },
  {
   "cell_type": "markdown",
   "id": "7f16805f",
   "metadata": {},
   "source": [
    "### 7. Write a program to prompt the user for hours and rate per hour to compute gross pay.Take into account that the factory gives the employee 1.5 times the hourly rate for hours worked above 40 hours.  Rewrite your pay computation program  with time-and-a-half for overtime and create a function called computepay which takes two parameters (hours and rate)."
   ]
  },
  {
   "cell_type": "code",
   "execution_count": 31,
   "id": "88f8d41e",
   "metadata": {},
   "outputs": [
    {
     "name": "stdout",
     "output_type": "stream",
     "text": [
      "Enter Hours:45\n",
      "Enter the Rate:2\n",
      "95.0\n"
     ]
    }
   ],
   "source": [
    "h= float(input(\"Enter Hours:\"))\n",
    "x = float(input(\"Enter the Rate:\"))\n",
    "if h<=40:\n",
    "    print(h*x)\n",
    "elif h> 40:\n",
    "    print((40*x)+((h-40)*1.5*x))"
   ]
  }
 ],
 "metadata": {
  "kernelspec": {
   "display_name": "Python 3 (ipykernel)",
   "language": "python",
   "name": "python3"
  },
  "language_info": {
   "codemirror_mode": {
    "name": "ipython",
    "version": 3
   },
   "file_extension": ".py",
   "mimetype": "text/x-python",
   "name": "python",
   "nbconvert_exporter": "python",
   "pygments_lexer": "ipython3",
   "version": "3.9.7"
  }
 },
 "nbformat": 4,
 "nbformat_minor": 5
}
