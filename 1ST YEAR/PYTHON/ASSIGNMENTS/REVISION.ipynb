{
 "cells": [
  {
   "cell_type": "markdown",
   "id": "d9971bed",
   "metadata": {},
   "source": [
    "### PROBLEM STATEMENT 1:\n",
    "A bank customer visit an ATM machine to operate his/her account. A pass code is\n",
    "needed to be entered by the user of ATM machine to operate an ATM. An integer\n",
    "number is entered by the user in ATM machine. Based on entered number the\n",
    "message is displayed either “Transaction may proceed” if entered number is\n",
    "equalvent to reverse of the number and “Transaction declined” if entered number is\n",
    "not equivalent to the reverse number. Write a program in python to check whether\n",
    "transaction proceed or Transaction declined. "
   ]
  },
  {
   "cell_type": "code",
   "execution_count": 6,
   "id": "cc0faac1",
   "metadata": {},
   "outputs": [
    {
     "name": "stdout",
     "output_type": "stream",
     "text": [
      "121\n",
      "Transaction may proceed\n"
     ]
    }
   ],
   "source": [
    "n=int(input())\n",
    "rev=0\n",
    "s=n\n",
    "while n>0:\n",
    "    last=n%10\n",
    "    rev=rev*10+last\n",
    "    n=n//10\n",
    "if rev==s:\n",
    "    print(\"Transaction may proceed\")\n",
    "else:\n",
    "    print(\"Transaction declined\")"
   ]
  },
  {
   "cell_type": "markdown",
   "id": "9eaf6c47",
   "metadata": {},
   "source": [
    "### PROBLEM STATEMENT 2:\n",
    "    Write a program to calculate the electricity bill (accept number of unit from user)\n",
    "    according to the following criteria:\n",
    "       Units               Price\n",
    "    First 100 units     No charge\n",
    "    Next 100 units     Rs 5/- per unit\n",
    "    After 200 units    Rs 10/- per unit"
   ]
  },
  {
   "cell_type": "code",
   "execution_count": 12,
   "id": "e537ce3c",
   "metadata": {},
   "outputs": [
    {
     "name": "stdout",
     "output_type": "stream",
     "text": [
      "150\n",
      "Rs 250\n"
     ]
    }
   ],
   "source": [
    "n=int(input())\n",
    "if n>100 and n<=200:\n",
    "    a=(n-100)*5\n",
    "    print('Rs',a)\n",
    "elif n>200:\n",
    "    a=(100)*5\n",
    "    b=(n-200)*10\n",
    "    print('Rs',a+b)\n",
    "else:\n",
    "    c=0\n",
    "    print('Rs',c)\n"
   ]
  },
  {
   "cell_type": "markdown",
   "id": "e283f575",
   "metadata": {},
   "source": [
    "### PROBLEM STATEMENT 3:\n",
    "An institution decides to give Bonus to its employees. A 10% Bonus is given to all male\n",
    "employees and 15 percent bonus to female employees. Write a program to get salary of\n",
    "employees with added bonus given to them. Also if the salary of employee is less than\n",
    "10000 then employee will get extra bonus of 2.5 percent. Program is accepting first input\n",
    "gender and second input is salary.\n",
    "Note: Input ‘m’ for male employees and ‘f’ for female employees.\n"
   ]
  },
  {
   "cell_type": "code",
   "execution_count": 19,
   "id": "1475a3dd",
   "metadata": {},
   "outputs": [
    {
     "name": "stdout",
     "output_type": "stream",
     "text": [
      " m or f:m\n",
      "salary:15000\n",
      "16500.0\n"
     ]
    }
   ],
   "source": [
    "g=input(\" m or f:\",)\n",
    "s=int(input('salary:',))\n",
    "if g=='m':\n",
    "    if s<10000:\n",
    "        print(s+(s*0.125))\n",
    "    else:\n",
    "        print(s+(s*0.10))\n",
    "else:\n",
    "    if s<10000:\n",
    "        print(s+(s*0.175))\n",
    "    else:\n",
    "        print(int(s+(s*0.15)))"
   ]
  },
  {
   "cell_type": "markdown",
   "id": "353d95fd",
   "metadata": {},
   "source": [
    "### PROBLEM STATEMENT 4:\n",
    "You are working as Cyber Security Intern, you need to write Python code to get\n",
    "input of numeric values from the user and store the numbers in a list. The entered\n",
    "number should be encrypted by calculating the factorial of each number and storing\n",
    "it in a new list that can be displayed to the user. "
   ]
  },
  {
   "cell_type": "code",
   "execution_count": 26,
   "id": "09ce2218",
   "metadata": {},
   "outputs": [],
   "source": [
    "def fact(n):\n",
    "    n_fact=1\n",
    "    for i in range(1,n+1):\n",
    "        n_fact*=i\n",
    "    return n_fact"
   ]
  },
  {
   "cell_type": "code",
   "execution_count": 37,
   "id": "819cd734",
   "metadata": {},
   "outputs": [
    {
     "name": "stdout",
     "output_type": "stream",
     "text": [
      "Enter the Size of List:3\n",
      "Enter the number in list:1 2 3 4 5\n",
      "[1, 2, 6]\n"
     ]
    }
   ],
   "source": [
    "n=int(input('Enter the Size of List:'))\n",
    "li=[0 for i in range(n)]\n",
    "b=input('Enter the number in list:').split()\n",
    "c=[0 for i in range(n)]\n",
    "\n",
    "if len(b)>n:\n",
    "    c=b[:n]\n",
    "    li=c\n",
    "else:\n",
    "    for j in range(len(b)):\n",
    "        li[j]=b[j]\n",
    "    \n",
    "for i in range(len(li)):\n",
    "    a=fact(int(li[i]))\n",
    "    li[i]=a\n",
    "print(li)"
   ]
  },
  {
   "cell_type": "markdown",
   "id": "0c13755c",
   "metadata": {},
   "source": [
    "### PROBLEM STATEMENT 5:\n",
    "Student is shifting his/her books to the hostel!\n",
    "Unfortunately, this means he/she going to start a new semester and has to pack his/her\n",
    "books in the box to load it into the car. Now, the student is packing up his/her book\n",
    "collection from the rag into the cardboard boxes.\n",
    "The student has X number of shelves for books, and each shelve contains exactly Y\n",
    "number of books. The cardboard box has the capacity to hold at most Z number of books\n",
    "of X shelve. To avoid the mess during organization of the books in the cardboard box,\n",
    "students ensured not to place the books from different shelves into the same cardboard\n",
    "box.\n",
    "Considering all the above mentioned points, what is the minimum number of cardboard\n",
    "boxes needed to pack all the books?\n"
   ]
  },
  {
   "cell_type": "code",
   "execution_count": 41,
   "id": "4b9df703",
   "metadata": {},
   "outputs": [
    {
     "name": "stdout",
     "output_type": "stream",
     "text": [
      "4\n",
      "4\n",
      "5\n",
      "3\n",
      "6\n",
      "3\n",
      "2\n",
      "4\n",
      "5\n",
      "4\n",
      "6\n",
      "5\n",
      "2\n",
      "[8, 12, 8, 18]\n"
     ]
    }
   ],
   "source": [
    "n=int(input())\n",
    "li=[0 for x in range(n)]\n",
    "for i in range(n):\n",
    "    s=int(input())\n",
    "    b=int(input())\n",
    "    c=int(input())\n",
    "    if b%c==0:\n",
    "        li[i]=(b//c)*s\n",
    "    else:\n",
    "        li[i]=((b//c)+1)*s\n",
    "print(li)       "
   ]
  }
 ],
 "metadata": {
  "kernelspec": {
   "display_name": "Python 3 (ipykernel)",
   "language": "python",
   "name": "python3"
  },
  "language_info": {
   "codemirror_mode": {
    "name": "ipython",
    "version": 3
   },
   "file_extension": ".py",
   "mimetype": "text/x-python",
   "name": "python",
   "nbconvert_exporter": "python",
   "pygments_lexer": "ipython3",
   "version": "3.9.7"
  }
 },
 "nbformat": 4,
 "nbformat_minor": 5
}
