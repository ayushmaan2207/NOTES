{
 "cells": [
  {
   "cell_type": "markdown",
   "id": "25f025e2",
   "metadata": {},
   "source": [
    "# PYTHON ASSIGNMENT-1\n",
    "CONDITIONALS AND LOOPS\n"
   ]
  },
  {
   "cell_type": "markdown",
   "id": "514dcb8a",
   "metadata": {},
   "source": [
    "### •\tCreate a python script to print hello, world! four times."
   ]
  },
  {
   "cell_type": "code",
   "execution_count": 3,
   "id": "799732af",
   "metadata": {},
   "outputs": [
    {
     "name": "stdout",
     "output_type": "stream",
     "text": [
      "hello, world! hello, world! hello, world! hello, world! \n"
     ]
    }
   ],
   "source": [
    "a='hello, world! '\n",
    "print(a*4)"
   ]
  },
  {
   "cell_type": "markdown",
   "id": "6602c970",
   "metadata": {},
   "source": [
    "### •\tWrite a python program to read three numbers (a,b,c) and check how many numbers between ‘a’ and ‘b’ are divisible by ‘c’"
   ]
  },
  {
   "cell_type": "code",
   "execution_count": 5,
   "id": "a22f2131",
   "metadata": {},
   "outputs": [
    {
     "name": "stdout",
     "output_type": "stream",
     "text": [
      "a=123\n",
      "b=546\n",
      "c=2\n",
      "total no. of numbers between a and b are divisible by c: 211\n"
     ]
    }
   ],
   "source": [
    "a=int(input('a=',))\n",
    "b=int(input('b=',))\n",
    "c=int(input('c=',))\n",
    "n=0\n",
    "if a>=b:\n",
    "    x=b+1\n",
    "    while x<a:\n",
    "        if x%c==0:\n",
    "            n+=1\n",
    "            x+=1\n",
    "        else:\n",
    "            x+=1\n",
    "elif a<=b:\n",
    "    x=a+1\n",
    "    while x<b:\n",
    "        if x%c==0:\n",
    "            n+=1\n",
    "            x+=1\n",
    "        else:\n",
    "            x+=1\n",
    "print('total no. of numbers between a and b are divisible by c:',n)"
   ]
  },
  {
   "cell_type": "markdown",
   "id": "0f066ed1",
   "metadata": {},
   "source": [
    "### •\tWrite a python program to print the factorial of a given number."
   ]
  },
  {
   "cell_type": "code",
   "execution_count": 6,
   "id": "3554cc70",
   "metadata": {},
   "outputs": [
    {
     "name": "stdout",
     "output_type": "stream",
     "text": [
      "6\n",
      "factorial of 6: 720\n"
     ]
    }
   ],
   "source": [
    "n=int(input())\n",
    "a=1\n",
    "b=1\n",
    "while b<=n:\n",
    "    x=a*b\n",
    "    a=x\n",
    "    b+=1\n",
    "print('factorial of {}:'.format(n),x)"
   ]
  },
  {
   "cell_type": "markdown",
   "id": "a175c819",
   "metadata": {},
   "source": [
    "### •\tWrite a python program to print the first 10 numbers Fibonacci series."
   ]
  },
  {
   "cell_type": "code",
   "execution_count": 7,
   "id": "41a64092",
   "metadata": {},
   "outputs": [
    {
     "name": "stdout",
     "output_type": "stream",
     "text": [
      "1 no.= 1\n",
      "2 no.= 1\n",
      "3 no.= 2\n",
      "4 no.= 3\n",
      "5 no.= 5\n",
      "6 no.= 8\n",
      "7 no.= 13\n",
      "8 no.= 21\n",
      "9 no.= 34\n",
      "10 no.= 55\n"
     ]
    }
   ],
   "source": [
    "a=1\n",
    "b=1\n",
    "c=0\n",
    "n=3\n",
    "t=10\n",
    "print('1 no.=',a)\n",
    "print('2 no.=',b)\n",
    "while n<=t:\n",
    "    c=a+b\n",
    "    a=b\n",
    "    b=c\n",
    "    print('{} no.='.format(n),c)\n",
    "    n+=1"
   ]
  },
  {
   "cell_type": "markdown",
   "id": "10276032",
   "metadata": {},
   "source": [
    "### •\tWrite a python program to check given number is prime or not."
   ]
  },
  {
   "cell_type": "code",
   "execution_count": 8,
   "id": "a5295c74",
   "metadata": {},
   "outputs": [
    {
     "name": "stdout",
     "output_type": "stream",
     "text": [
      "256\n",
      "256 is not a prime no.\n"
     ]
    }
   ],
   "source": [
    "n=int(input())\n",
    "a=2\n",
    "flag=False\n",
    "while a<n:\n",
    "    if n%a ==0:\n",
    "        flag=True\n",
    "    a+=1\n",
    "if flag:\n",
    "    print('{} is not a prime no.'.format(n))\n",
    "elif not(flag):\n",
    "    print('{} is a prime no.'.format(n))"
   ]
  },
  {
   "cell_type": "markdown",
   "id": "f054cf49",
   "metadata": {},
   "source": [
    "### •\tWrite a python program to print all prime numbers between 0 to 100 , and print count of  prime numbers."
   ]
  },
  {
   "cell_type": "code",
   "execution_count": 9,
   "id": "e374b186",
   "metadata": {
    "scrolled": true
   },
   "outputs": [
    {
     "name": "stdout",
     "output_type": "stream",
     "text": [
      "2\n",
      "3\n",
      "5\n",
      "7\n",
      "11\n",
      "13\n",
      "17\n",
      "19\n",
      "23\n",
      "29\n",
      "31\n",
      "37\n",
      "41\n",
      "43\n",
      "47\n",
      "53\n",
      "59\n",
      "61\n",
      "67\n",
      "71\n",
      "73\n",
      "79\n",
      "83\n",
      "89\n",
      "97\n"
     ]
    }
   ],
   "source": [
    "a=100\n",
    "b=2\n",
    "while b<=a:\n",
    "    k=2\n",
    "    flag=False\n",
    "    while k<b:\n",
    "        if b%k==0:\n",
    "            flag=True\n",
    "        k+=1\n",
    "    if not(flag):\n",
    "        print(k)\n",
    "    b+=1"
   ]
  },
  {
   "cell_type": "markdown",
   "id": "bc4f3e53",
   "metadata": {},
   "source": [
    "### •\tWrite a while-loop that prints the even numbers from 200 to 150 in descending order."
   ]
  },
  {
   "cell_type": "code",
   "execution_count": 10,
   "id": "c5189f8f",
   "metadata": {},
   "outputs": [
    {
     "name": "stdout",
     "output_type": "stream",
     "text": [
      "200\n",
      "198\n",
      "196\n",
      "194\n",
      "192\n",
      "190\n",
      "188\n",
      "186\n",
      "184\n",
      "182\n",
      "180\n",
      "178\n",
      "176\n",
      "174\n",
      "172\n",
      "170\n",
      "168\n",
      "166\n",
      "164\n",
      "162\n",
      "160\n",
      "158\n",
      "156\n",
      "154\n",
      "152\n",
      "150\n"
     ]
    }
   ],
   "source": [
    "a=200\n",
    "b=150\n",
    "while a>=b:\n",
    "    if a%2==0:\n",
    "        print(a)\n",
    "        a-=2\n",
    "    else:\n",
    "        a-=1"
   ]
  },
  {
   "cell_type": "markdown",
   "id": "7492ffc9",
   "metadata": {},
   "source": [
    "### •\tWhat will be the output of the following program."
   ]
  },
  {
   "cell_type": "raw",
   "id": "e5b5ba6a",
   "metadata": {},
   "source": [
    "(i)\tx, y = 2, 6\n",
    "    x, y = y, x + 2\n",
    "    print(x, y)\n",
    "    \n",
    "Ans: 6 4    \n",
    "\n",
    "(ii) a, b = 2, 3\n",
    "     c, b = a, c + 1\n",
    "     print(a, b)\n",
    "     \n",
    "Ans: 2 3 "
   ]
  },
  {
   "cell_type": "markdown",
   "id": "62e424e7",
   "metadata": {},
   "source": [
    "### •\tWrite a function count_digits to find number of digits in the given number."
   ]
  },
  {
   "cell_type": "code",
   "execution_count": 11,
   "id": "cb17ab07",
   "metadata": {},
   "outputs": [
    {
     "name": "stdout",
     "output_type": "stream",
     "text": [
      "no.:8642\n",
      "no. of digits: 4\n"
     ]
    }
   ],
   "source": [
    "n=int(input('no.:'))\n",
    "count_digits=0\n",
    "while n>0:\n",
    "    last_digit=n%10\n",
    "    n=n//10\n",
    "    count_digits+=1\n",
    "print('no. of digits:',count_digits)"
   ]
  },
  {
   "cell_type": "markdown",
   "id": "b9ebd611",
   "metadata": {},
   "source": [
    "### •\tWrite a function SQROOT to find square root of  given number."
   ]
  },
  {
   "cell_type": "code",
   "execution_count": 4,
   "id": "714e28f0",
   "metadata": {},
   "outputs": [
    {
     "name": "stdout",
     "output_type": "stream",
     "text": [
      "64\n",
      "square root of 64 is: 8.0\n"
     ]
    }
   ],
   "source": [
    "n=int(input())\n",
    "SQROOT= n**0.5\n",
    "print('square root of {} is:'.format(n),SQROOT)"
   ]
  }
 ],
 "metadata": {
  "kernelspec": {
   "display_name": "Python 3 (ipykernel)",
   "language": "python",
   "name": "python3"
  },
  "language_info": {
   "codemirror_mode": {
    "name": "ipython",
    "version": 3
   },
   "file_extension": ".py",
   "mimetype": "text/x-python",
   "name": "python",
   "nbconvert_exporter": "python",
   "pygments_lexer": "ipython3",
   "version": "3.9.7"
  }
 },
 "nbformat": 4,
 "nbformat_minor": 5
}
