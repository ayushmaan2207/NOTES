{
 "cells": [
  {
   "cell_type": "markdown",
   "metadata": {},
   "source": [
    "# Q7\n",
    "#### Write a function in Python to calculate the median of a list of numerical values without using any external libraries."
   ]
  },
  {
   "cell_type": "code",
   "execution_count": 7,
   "metadata": {},
   "outputs": [
    {
     "name": "stdout",
     "output_type": "stream",
     "text": [
      "Median =  4\n"
     ]
    }
   ],
   "source": [
    "def help(lst):\n",
    "    res = sorted(lst)\n",
    "    n = len(res)\n",
    "\n",
    "    if n % 2 == 1:\n",
    "        return res[n // 2]\n",
    "    else:\n",
    "        r = n // 2\n",
    "        l = r - 1\n",
    "        return (res[l] + res[r]) / 2\n",
    "\n",
    "l1 = [7, 3, 1, 4, 6, 2, 5]\n",
    "print(\"Median = \", help(l1))"
   ]
  },
  {
   "cell_type": "markdown",
   "metadata": {},
   "source": [
    "# Q8\n",
    "#### Write a function in python to remove the duplicate element from the list "
   ]
  },
  {
   "cell_type": "code",
   "execution_count": 5,
   "metadata": {},
   "outputs": [
    {
     "name": "stdout",
     "output_type": "stream",
     "text": [
      "[1, 2, 3, 4, 5, 6]\n"
     ]
    }
   ],
   "source": [
    "def remove(li):\n",
    "    arr = []\n",
    "    for ele in li:\n",
    "        if ele not in arr:\n",
    "            arr.append(ele)\n",
    "    return arr\n",
    "\n",
    "# Example \n",
    "li = [1, 2, 2, 3, 4, 4, 5,6]\n",
    "rli = remove(li)\n",
    "print(rli)"
   ]
  },
  {
   "cell_type": "markdown",
   "metadata": {},
   "source": [
    "# Q9\n",
    "#### Write a Python script to read a text file named \"input.txt\", count the frequency of each word, and write the results to another text file named \"output.txt\"."
   ]
  },
  {
   "cell_type": "code",
   "execution_count": 4,
   "metadata": {},
   "outputs": [
    {
     "name": "stdout",
     "output_type": "stream",
     "text": [
      "hello : 2\n",
      "machine : 1\n",
      "learning : 1\n",
      "artificial : 1\n",
      "intelligence : 1\n",
      "\n"
     ]
    }
   ],
   "source": [
    "import os\n",
    "\n",
    "def freq(io, oi):\n",
    "    word_freq = {}\n",
    "\n",
    "    with open(io, 'r') as f:\n",
    "        for line in f:\n",
    "            words = line.strip().split()\n",
    "            for word in words:\n",
    "                word = word.lower()\n",
    "                word_freq[word] = word_freq.get(word, 0) + 1\n",
    "\n",
    "    with open(oi, 'w') as f:\n",
    "        for word, freq in word_freq.items():\n",
    "            f.write(f\"{word} : {freq}\\n\")\n",
    "        \n",
    "io = r\"C:\\Users\\ayush\\CHITKARA\\2ND YEAR\\AIML\\input.txt\"  \n",
    "oi = r\"C:\\Users\\ayush\\CHITKARA\\2ND YEAR\\AIML\\output.txt\" \n",
    "\n",
    "freq(io, oi)\n",
    "\n",
    "with open(oi, 'r') as f:\n",
    "    print(f.read())"
   ]
  },
  {
   "cell_type": "markdown",
   "metadata": {},
   "source": [
    "# Q10\n",
    "#### Write a Python function to handle the exception raised when dividing a number by zero and print a custom error message."
   ]
  },
  {
   "cell_type": "code",
   "execution_count": 9,
   "metadata": {},
   "outputs": [
    {
     "name": "stdout",
     "output_type": "stream",
     "text": [
      "Error: Division by 0 is not allowed.\n",
      "Division was not successful.\n"
     ]
    }
   ],
   "source": [
    "def div(dividend, divisor):\n",
    "    try:\n",
    "        result = dividend / divisor\n",
    "        return result\n",
    "    except ZeroDivisionError:\n",
    "        print(\"Error: Division by 0 is not allowed.\")\n",
    "        return None\n",
    "\n",
    "dividend = 10\n",
    "divisor = 0\n",
    "\n",
    "result = div(dividend, divisor)\n",
    "if result is not None:\n",
    "    print(\"Result of division:\", result)\n",
    "else:\n",
    "    print(\"Division was not successful.\")"
   ]
  }
 ],
 "metadata": {
  "kernelspec": {
   "display_name": "base",
   "language": "python",
   "name": "python3"
  },
  "language_info": {
   "codemirror_mode": {
    "name": "ipython",
    "version": 3
   },
   "file_extension": ".py",
   "mimetype": "text/x-python",
   "name": "python",
   "nbconvert_exporter": "python",
   "pygments_lexer": "ipython3",
   "version": "3.9.7"
  }
 },
 "nbformat": 4,
 "nbformat_minor": 2
}
